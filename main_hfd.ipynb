{
 "cells": [
  {
   "cell_type": "markdown",
   "metadata": {},
   "source": [
    "## Feature Extraction: HFD"
   ]
  },
  {
   "cell_type": "code",
   "execution_count": 3,
   "metadata": {},
   "outputs": [],
   "source": [
    "import dotenv\n",
    "import numpy as np\n",
    "import os\n",
    "import matplotlib.pyplot as plt\n",
    "import pandas as pd\n",
    "from brainmdd.features.hfd import EEGHiguchiFractalDimension\n",
    "import mne\n",
    "import enum\n",
    "\n",
    "dotenv.load_dotenv()\n",
    "\n",
    "class ChannelMapping(enum.Enum):\n",
    "    Fp1 = 22\n",
    "    Fp2 = 9\n",
    "    F3 = 24\n",
    "    F4 = 124\n",
    "    C3 = 36\n",
    "    C4 = 104\n",
    "    P3 = 52\n",
    "    P4 = 92\n",
    "    O1 = 70\n",
    "    O2 = 83\n",
    "    F7 = 33\n",
    "    F8 = 122\n",
    "    T3 = 45\n",
    "    T4 = 108\n",
    "    T5 = 58\n",
    "    T6 = 96\n",
    "\n",
    "# Declare Global Variables\n",
    "NUM_CHANNELS = 16\n",
    "MODMA_SFREQ = 250\n",
    "EEG_DIR_PATH = os.getenv(\"EEG_DIR_PATH\")\n",
    "RAW_DIR_PATH = os.getenv(\"EEG_DIR_PATH\") + \"/raw\"\n",
    "SELECT_16_DIR_PATH = os.getenv(\"EEG_DIR_PATH\") + \"/16channels\"\n",
    "FILTERED_DIR_PATH = os.getenv(\"EEG_DIR_PATH\") + \"/filtered\"\n",
    "EPOCHS_DIR_PATH = os.getenv(\"EEG_DIR_PATH\") + \"/epochs\"\n",
    "\n",
    "# Declare Feature Dictionary\n",
    "featureDict = {\n",
    "    \"HFD\": {\n",
    "        \"mdd\": [],\n",
    "        \"control\": []\n",
    "    }\n",
    "}"
   ]
  },
  {
   "cell_type": "code",
   "execution_count": 4,
   "metadata": {},
   "outputs": [
    {
     "name": "stdout",
     "output_type": "stream",
     "text": [
      "Reading /Users/wachiii/Workschii/brain-mdd/data/epochs/mdd-epo.fif ...\n",
      "    Found the data of interest:\n",
      "        t =       0.00 ...    4996.00 ms\n",
      "        0 CTF compensation matrices available\n",
      "Not setting metadata\n",
      "1328 matching events found\n",
      "No baseline correction applied\n",
      "0 projection items activated\n",
      "Reading /Users/wachiii/Workschii/brain-mdd/data/epochs/control-epo.fif ...\n",
      "    Found the data of interest:\n",
      "        t =       0.00 ...    4996.00 ms\n",
      "        0 CTF compensation matrices available\n",
      "Not setting metadata\n",
      "1753 matching events found\n",
      "No baseline correction applied\n",
      "0 projection items activated\n",
      "(1328, 16, 1250)\n",
      "(1753, 16, 1250)\n"
     ]
    }
   ],
   "source": [
    "# Load the epochs\n",
    "mddEpochs = mne.read_epochs(EPOCHS_DIR_PATH + \"/mdd-epo.fif\")\n",
    "controlEpochs = mne.read_epochs(EPOCHS_DIR_PATH + \"/control-epo.fif\")\n",
    "mddEpochs = mddEpochs.get_data()\n",
    "controlEpochs = controlEpochs.get_data()\n",
    "print(mddEpochs.shape)\n",
    "print(controlEpochs.shape)"
   ]
  },
  {
   "cell_type": "code",
   "execution_count": 5,
   "metadata": {},
   "outputs": [
    {
     "name": "stdout",
     "output_type": "stream",
     "text": [
      "(1328, 16)\n",
      "(1753, 16)\n"
     ]
    }
   ],
   "source": [
    "hfdObjMdd = EEGHiguchiFractalDimension(mddEpochs)\n",
    "mddHfdFeatures = hfdObjMdd.run()\n",
    "hfdObjControl = EEGHiguchiFractalDimension(controlEpochs)\n",
    "controlHfdFeatures = hfdObjControl.run()\n",
    "\n",
    "print(mddHfdFeatures.shape)\n",
    "print(controlHfdFeatures.shape)"
   ]
  },
  {
   "cell_type": "code",
   "execution_count": 7,
   "metadata": {},
   "outputs": [],
   "source": [
    "for epoch in mddHfdFeatures:\n",
    "    featureDict[\"HFD\"][\"mdd\"].append(epoch)\n",
    "for epoch in controlHfdFeatures:\n",
    "    featureDict[\"HFD\"][\"control\"].append(epoch)\n",
    "    "
   ]
  },
  {
   "cell_type": "markdown",
   "metadata": {},
   "source": [
    "## Classification"
   ]
  },
  {
   "cell_type": "code",
   "execution_count": 11,
   "metadata": {},
   "outputs": [
    {
     "name": "stdout",
     "output_type": "stream",
     "text": [
      "0.9286871961102107\n",
      "[[315  18]\n",
      " [ 26 258]]\n",
      "              precision    recall  f1-score   support\n",
      "\n",
      "         0.0       0.92      0.95      0.93       333\n",
      "         1.0       0.93      0.91      0.92       284\n",
      "\n",
      "    accuracy                           0.93       617\n",
      "   macro avg       0.93      0.93      0.93       617\n",
      "weighted avg       0.93      0.93      0.93       617\n",
      "\n",
      "accuracy_score:  0.9286871961102107\n"
     ]
    },
    {
     "data": {
      "image/png": "[encoded data removed]",
      "text/plain": [
       "<Figure size 640x480 with 2 Axes>"
      ]
     },
     "metadata": {},
     "output_type": "display_data"
    }
   ],
   "source": [
    "import numpy as np\n",
    "from sklearn.model_selection import train_test_split, cross_val_score\n",
    "from sklearn.discriminant_analysis import LinearDiscriminantAnalysis\n",
    "\n",
    "from sklearn.neighbors import KNeighborsClassifier\n",
    "import seaborn as sns\n",
    "import matplotlib.pyplot as plt\n",
    "\n",
    "hfdMdd = featureDict[\"HFD\"][\"mdd\"]\n",
    "hfdControl = featureDict[\"HFD\"][\"control\"]\n",
    "\n",
    "X = np.concatenate((hfdMdd, hfdControl), axis=0)\n",
    "y = np.concatenate((np.ones(len(hfdMdd)), np.zeros(len(hfdControl))), axis=0)\n",
    "\n",
    "X_train, X_test, y_train, y_test = train_test_split(X, y, test_size=0.2, random_state=42)\n",
    "\n",
    "knn = KNeighborsClassifier(n_neighbors=3)\n",
    "knn.fit(X_train, y_train)\n",
    "y_pred = knn.predict(X_test)\n",
    "\n",
    "from sklearn.metrics import accuracy_score, confusion_matrix\n",
    "print(accuracy_score(y_test, y_pred))\n",
    "print(confusion_matrix(y_test, y_pred))\n",
    "\n",
    "from sklearn.metrics import classification_report\n",
    "print(classification_report(y_test, y_pred))\n",
    "print(\"accuracy_score: \", accuracy_score(y_test, y_pred))\n",
    "\n",
    "# confusion matrix\n",
    "cm = confusion_matrix(y_test, y_pred)\n",
    "sns.heatmap(cm, annot=True, fmt='d')\n",
    "plt.show()"
   ]
  },
  {
   "cell_type": "code",
   "execution_count": null,
   "metadata": {},
   "outputs": [],
   "source": []
  }
 ],
 "metadata": {
  "kernelspec": {
   "display_name": "brain-mdd",
   "language": "python",
   "name": "python3"
  },
  "language_info": {
   "codemirror_mode": {
    "name": "ipython",
    "version": 3
   },
   "file_extension": ".py",
   "mimetype": "text/x-python",
   "name": "python",
   "nbconvert_exporter": "python",
   "pygments_lexer": "ipython3",
   "version": "3.12.7"
  }
 },
 "nbformat": 4,
 "nbformat_minor": 2
}
