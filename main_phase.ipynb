{
 "cells": [
  {
   "cell_type": "markdown",
   "metadata": {},
   "source": [
    "## Feature Extraction: Phase Connectivity"
   ]
  },
  {
   "cell_type": "code",
   "execution_count": 9,
   "metadata": {},
   "outputs": [],
   "source": [
    "import dotenv\n",
    "import numpy as np\n",
    "import os\n",
    "import matplotlib.pyplot as plt\n",
    "import pandas as pd\n",
    "from brainmdd.features.phaseconnectivity import EEGPhaseConnectivity\n",
    "import mne\n",
    "import enum\n",
    "\n",
    "dotenv.load_dotenv()\n",
    "\n",
    "class ChannelMapping(enum.Enum):\n",
    "    Fp1 = 22\n",
    "    Fp2 = 9\n",
    "    F3 = 24\n",
    "    F4 = 124\n",
    "    C3 = 36\n",
    "    C4 = 104\n",
    "    P3 = 52\n",
    "    P4 = 92\n",
    "    O1 = 70\n",
    "    O2 = 83\n",
    "    F7 = 33\n",
    "    F8 = 122\n",
    "    T3 = 45\n",
    "    T4 = 108\n",
    "    T5 = 58\n",
    "    T6 = 96\n",
    "\n",
    "# Declare Global Variables\n",
    "NUM_CHANNELS = 16\n",
    "MODMA_SFREQ = 250\n",
    "EEG_DIR_PATH = os.getenv(\"EEG_DIR_PATH\")\n",
    "RAW_DIR_PATH = os.getenv(\"EEG_DIR_PATH\") + \"/raw\"\n",
    "SELECT_16_DIR_PATH = os.getenv(\"EEG_DIR_PATH\") + \"/16channels\"\n",
    "FILTERED_DIR_PATH = os.getenv(\"EEG_DIR_PATH\") + \"/filtered\"\n",
    "EPOCHS_DIR_PATH = os.getenv(\"EEG_DIR_PATH\") + \"/epochs\"\n",
    "\n",
    "# Declare Feature Dictionary\n",
    "featureDict = {\n",
    "    \"phase_connectivity\":{\n",
    "        \"mdd\": [],\n",
    "        \"hc\": []\n",
    "    }\n",
    "}"
   ]
  },
  {
   "cell_type": "code",
   "execution_count": 2,
   "metadata": {},
   "outputs": [
    {
     "name": "stdout",
     "output_type": "stream",
     "text": [
      "Reading /Users/wachiii/Workschii/brain-mdd/data/epochs/mdd-epo.fif ...\n",
      "    Found the data of interest:\n",
      "        t =       0.00 ...    4996.00 ms\n",
      "        0 CTF compensation matrices available\n",
      "Not setting metadata\n",
      "1328 matching events found\n",
      "No baseline correction applied\n",
      "0 projection items activated\n",
      "Reading /Users/wachiii/Workschii/brain-mdd/data/epochs/control-epo.fif ...\n",
      "    Found the data of interest:\n",
      "        t =       0.00 ...    4996.00 ms\n",
      "        0 CTF compensation matrices available\n",
      "Not setting metadata\n",
      "1753 matching events found\n",
      "No baseline correction applied\n",
      "0 projection items activated\n",
      "(1328, 16, 1250)\n",
      "(1753, 16, 1250)\n"
     ]
    }
   ],
   "source": [
    "# Load the epochs\n",
    "mddEpochs = mne.read_epochs(EPOCHS_DIR_PATH + \"/mdd-epo.fif\")\n",
    "controlEpochs = mne.read_epochs(EPOCHS_DIR_PATH + \"/control-epo.fif\")\n",
    "mddEpochs = mddEpochs.get_data()\n",
    "controlEpochs = controlEpochs.get_data()\n",
    "print(mddEpochs.shape)\n",
    "print(controlEpochs.shape)"
   ]
  },
  {
   "cell_type": "code",
   "execution_count": 6,
   "metadata": {},
   "outputs": [],
   "source": [
    "phaseConObjMdd = EEGPhaseConnectivity(mddEpochs, MODMA_SFREQ)\n",
    "mddPhaseConFeatures = phaseConObjMdd.run()\n",
    "phaseConObjControl = EEGPhaseConnectivity(controlEpochs, MODMA_SFREQ)\n",
    "controlPhaseConFeatures = phaseConObjControl.run()"
   ]
  },
  {
   "cell_type": "code",
   "execution_count": 10,
   "metadata": {},
   "outputs": [
    {
     "name": "stdout",
     "output_type": "stream",
     "text": [
      "dict_keys(['PLV', 'PLI', 'wPLI'])\n"
     ]
    }
   ],
   "source": [
    "# inspect the shape of the features (dict)\n",
    "# it is dict with keys as channel pairs and values as the phase connectivity values\n",
    "print(mddPhaseConFeatures.keys())"
   ]
  },
  {
   "cell_type": "code",
   "execution_count": 11,
   "metadata": {},
   "outputs": [
    {
     "name": "stdout",
     "output_type": "stream",
     "text": [
      "3\n"
     ]
    }
   ],
   "source": [
    "# check the shape of the feature dict\n",
    "print(len(featureDict[\"phase_connectivity\"][\"mdd\"]))"
   ]
  },
  {
   "cell_type": "code",
   "execution_count": null,
   "metadata": {},
   "outputs": [],
   "source": []
  }
 ],
 "metadata": {
  "kernelspec": {
   "display_name": "brain-mdd",
   "language": "python",
   "name": "python3"
  },
  "language_info": {
   "codemirror_mode": {
    "name": "ipython",
    "version": 3
   },
   "file_extension": ".py",
   "mimetype": "text/x-python",
   "name": "python",
   "nbconvert_exporter": "python",
   "pygments_lexer": "ipython3",
   "version": "3.12.7"
  }
 },
 "nbformat": 4,
 "nbformat_minor": 2
}
