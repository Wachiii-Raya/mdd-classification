{
 "cells": [
  {
   "cell_type": "markdown",
   "metadata": {},
   "source": [
    "## Feature Extraction: Coherence"
   ]
  },
  {
   "cell_type": "code",
   "execution_count": 11,
   "metadata": {},
   "outputs": [],
   "source": [
    "import dotenv\n",
    "import numpy as np\n",
    "import os\n",
    "import matplotlib.pyplot as plt\n",
    "import pandas as pd\n",
    "from brainmdd.features.coherence import EEGCoherence\n",
    "import mne\n",
    "import enum\n",
    "\n",
    "dotenv.load_dotenv()\n",
    "\n",
    "class ChannelMapping(enum.Enum):\n",
    "    Fp1 = 22\n",
    "    Fp2 = 9\n",
    "    F3 = 24\n",
    "    F4 = 124\n",
    "    C3 = 36\n",
    "    C4 = 104\n",
    "    P3 = 52\n",
    "    P4 = 92\n",
    "    O1 = 70\n",
    "    O2 = 83\n",
    "    F7 = 33\n",
    "    F8 = 122\n",
    "    T3 = 45\n",
    "    T4 = 108\n",
    "    T5 = 58\n",
    "    T6 = 96\n",
    "\n",
    "# Declare Global Variables\n",
    "NUM_CHANNELS = 16\n",
    "MODMA_SFREQ = 250\n",
    "EEG_DIR_PATH = os.getenv(\"EEG_DIR_PATH\")\n",
    "RAW_DIR_PATH = os.getenv(\"EEG_DIR_PATH\") + \"/raw\"\n",
    "SELECT_16_DIR_PATH = os.getenv(\"EEG_DIR_PATH\") + \"/16channels\"\n",
    "FILTERED_DIR_PATH = os.getenv(\"EEG_DIR_PATH\") + \"/filtered\"\n",
    "EPOCHS_DIR_PATH = os.getenv(\"EEG_DIR_PATH\") + \"/epochs\"\n",
    "\n",
    "# Declare Feature Dictionary\n",
    "featureDict = {\n",
    "    \"coherence\": {\n",
    "        \"mdd\": {\n",
    "            \"delta\": [],\n",
    "            \"theta\": [],\n",
    "            \"alpha\": [],\n",
    "            \"beta\": [],\n",
    "            \"gamma\": []\n",
    "            },\n",
    "        \"control\": {\n",
    "            \"delta\": [],\n",
    "            \"theta\": [],\n",
    "            \"alpha\": [],\n",
    "            \"beta\": [],\n",
    "            \"gamma\": []\n",
    "            }\n",
    "        }\n",
    "    } \n"
   ]
  },
  {
   "cell_type": "code",
   "execution_count": 12,
   "metadata": {},
   "outputs": [
    {
     "name": "stdout",
     "output_type": "stream",
     "text": [
      "Reading /Users/wachiii/Workschii/brain-mdd/data/epochs/mdd-epo.fif ...\n",
      "    Found the data of interest:\n",
      "        t =       0.00 ...    4996.00 ms\n",
      "        0 CTF compensation matrices available\n",
      "Not setting metadata\n",
      "1328 matching events found\n",
      "No baseline correction applied\n",
      "0 projection items activated\n",
      "Reading /Users/wachiii/Workschii/brain-mdd/data/epochs/control-epo.fif ...\n",
      "    Found the data of interest:\n",
      "        t =       0.00 ...    4996.00 ms\n",
      "        0 CTF compensation matrices available\n",
      "Not setting metadata\n",
      "1753 matching events found\n",
      "No baseline correction applied\n",
      "0 projection items activated\n",
      "(1328, 16, 1250)\n",
      "(1753, 16, 1250)\n"
     ]
    }
   ],
   "source": [
    "# Load the epochs\n",
    "mddEpochs = mne.read_epochs(EPOCHS_DIR_PATH + \"/mdd-epo.fif\")\n",
    "controlEpochs = mne.read_epochs(EPOCHS_DIR_PATH + \"/control-epo.fif\")\n",
    "mddEpochs = mddEpochs.get_data()\n",
    "controlEpochs = controlEpochs.get_data()\n",
    "print(mddEpochs.shape)\n",
    "print(controlEpochs.shape)"
   ]
  },
  {
   "cell_type": "code",
   "execution_count": 13,
   "metadata": {},
   "outputs": [
    {
     "name": "stdout",
     "output_type": "stream",
     "text": [
      "(1328, 5, 120)\n",
      "(1753, 5, 120)\n"
     ]
    }
   ],
   "source": [
    "coherenceObjMdd = EEGCoherence(mddEpochs, MODMA_SFREQ)\n",
    "mddCohFeatures = coherenceObjMdd.run()\n",
    "coherenceObjControl = EEGCoherence(controlEpochs, MODMA_SFREQ)\n",
    "controlCohFeatures = coherenceObjControl.run()\n",
    "\n",
    "print(mddCohFeatures.shape)\n",
    "print(controlCohFeatures.shape)"
   ]
  },
  {
   "cell_type": "code",
   "execution_count": 14,
   "metadata": {},
   "outputs": [],
   "source": [
    "for epoch in mddCohFeatures:\n",
    "    bandCounter = 0\n",
    "    for band in epoch:\n",
    "        if bandCounter == 0:\n",
    "            featureDict[\"coherence\"][\"mdd\"][\"delta\"].append(band)\n",
    "        elif bandCounter == 1:\n",
    "            featureDict[\"coherence\"][\"mdd\"][\"theta\"].append(band)\n",
    "        elif bandCounter == 2:\n",
    "            featureDict[\"coherence\"][\"mdd\"][\"alpha\"].append(band)\n",
    "        elif bandCounter == 3:\n",
    "            featureDict[\"coherence\"][\"mdd\"][\"beta\"].append(band)\n",
    "        elif bandCounter == 4:\n",
    "            featureDict[\"coherence\"][\"mdd\"][\"gamma\"].append(band)\n",
    "        bandCounter += 1\n",
    "\n",
    "for epoch in controlCohFeatures:\n",
    "    bandCounter = 0\n",
    "    for band in epoch:\n",
    "        if bandCounter == 0:\n",
    "            featureDict[\"coherence\"][\"control\"][\"delta\"].append(band)\n",
    "        elif bandCounter == 1:\n",
    "            featureDict[\"coherence\"][\"control\"][\"theta\"].append(band)\n",
    "        elif bandCounter == 2:\n",
    "            featureDict[\"coherence\"][\"control\"][\"alpha\"].append(band)\n",
    "        elif bandCounter == 3:\n",
    "            featureDict[\"coherence\"][\"control\"][\"beta\"].append(band)\n",
    "        elif bandCounter == 4:\n",
    "            featureDict[\"coherence\"][\"control\"][\"gamma\"].append(band)\n",
    "        bandCounter += 1     "
   ]
  },
  {
   "cell_type": "code",
   "execution_count": 7,
   "metadata": {},
   "outputs": [
    {
     "name": "stdout",
     "output_type": "stream",
     "text": [
      "1328\n",
      "1328\n",
      "1328\n",
      "1328\n",
      "1328\n",
      "1753\n",
      "1753\n",
      "1753\n",
      "1753\n",
      "1753\n"
     ]
    }
   ],
   "source": [
    "# check the shape of the features\n",
    "print(len(featureDict[\"coherence\"][\"mdd\"][\"delta\"]))\n",
    "print(len(featureDict[\"coherence\"][\"mdd\"][\"theta\"]))\n",
    "print(len(featureDict[\"coherence\"][\"mdd\"][\"alpha\"]))\n",
    "print(len(featureDict[\"coherence\"][\"mdd\"][\"beta\"]))\n",
    "print(len(featureDict[\"coherence\"][\"mdd\"][\"gamma\"]))\n",
    "print(len(featureDict[\"coherence\"][\"control\"][\"delta\"]))\n",
    "print(len(featureDict[\"coherence\"][\"control\"][\"theta\"]))\n",
    "print(len(featureDict[\"coherence\"][\"control\"][\"alpha\"]))\n",
    "print(len(featureDict[\"coherence\"][\"control\"][\"beta\"]))\n",
    "print(len(featureDict[\"coherence\"][\"control\"][\"gamma\"]))\n"
   ]
  },
  {
   "cell_type": "markdown",
   "metadata": {},
   "source": [
    "## Classification"
   ]
  },
  {
   "cell_type": "code",
   "execution_count": 10,
   "metadata": {},
   "outputs": [
    {
     "name": "stdout",
     "output_type": "stream",
     "text": [
      "Accuracy:  0.8038897893030794\n",
      "Precision:  0.7762711864406779\n",
      "Recall:  0.8063380281690141\n",
      "F1 Score:  0.7910189982728842\n"
     ]
    },
    {
     "data": {
      "image/png": "[encoded data removed]",
      "text/plain": [
       "<Figure size 640x480 with 2 Axes>"
      ]
     },
     "metadata": {},
     "output_type": "display_data"
    }
   ],
   "source": [
    "import numpy as np\n",
    "import pandas as pd\n",
    "from sklearn.model_selection import train_test_split, cross_val_score\n",
    "from sklearn.discriminant_analysis import LinearDiscriminantAnalysis\n",
    "from sklearn.metrics import confusion_matrix, f1_score, precision_score, recall_score, accuracy_score\n",
    "import seaborn as sns\n",
    "import matplotlib.pyplot as plt\n",
    "from sklearn.decomposition import PCA\n",
    "\n",
    "deltaMdd = featureDict[\"coherence\"][\"mdd\"][\"delta\"]\n",
    "deltaControl = featureDict[\"coherence\"][\"control\"][\"delta\"]\n",
    "deltaMdd = np.array(deltaMdd)\n",
    "deltaControl = np.array(deltaControl)\n",
    "\n",
    "X = np.concatenate((deltaMdd, deltaControl), axis=0)\n",
    "y = np.concatenate((np.ones(len(deltaMdd)), np.zeros(len(deltaControl))), axis=0)\n",
    "\n",
    "X_train, X_test, y_train, y_test = train_test_split(X, y, test_size=0.2, random_state=42)\n",
    "\n",
    "lda = LinearDiscriminantAnalysis()\n",
    "lda.fit(X_train, y_train)\n",
    "y_pred = lda.predict(X_test)\n",
    "\n",
    "print(\"Accuracy: \", accuracy_score(y_test, y_pred))\n",
    "print(\"Precision: \", precision_score(y_test, y_pred))\n",
    "print(\"Recall: \", recall_score(y_test, y_pred))\n",
    "print(\"F1 Score: \", f1_score(y_test, y_pred))\n",
    "\n",
    "# Confusion Matrix\n",
    "cm = confusion_matrix(y_test, y_pred)\n",
    "sns.heatmap(cm, annot=True)\n",
    "plt.show()"
   ]
  },
  {
   "cell_type": "code",
   "execution_count": null,
   "metadata": {},
   "outputs": [],
   "source": []
  }
 ],
 "metadata": {
  "kernelspec": {
   "display_name": "brain-mdd",
   "language": "python",
   "name": "python3"
  },
  "language_info": {
   "codemirror_mode": {
    "name": "ipython",
    "version": 3
   },
   "file_extension": ".py",
   "mimetype": "text/x-python",
   "name": "python",
   "nbconvert_exporter": "python",
   "pygments_lexer": "ipython3",
   "version": "3.12.7"
  }
 },
 "nbformat": 4,
 "nbformat_minor": 2
}
