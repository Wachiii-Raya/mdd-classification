{
 "cells": [
  {
   "cell_type": "code",
   "execution_count": 11,
   "metadata": {},
   "outputs": [],
   "source": [
    "import os\n",
    "import numpy as np\n",
    "import pandas as pd\n",
    "import mne \n",
    "\n",
    "\n",
    "# fifFileMddPath = \"/Users/wachiii/Workschii/brain-mdd/data/balanced16channels/mdd1624.fif\"\n",
    "# fifFileHcPath = \"/Users/wachiii/Workschii/brain-mdd/data/balanced16channels/hc1624.fif\"\n",
    "\n",
    "fifFileHcEpochPath = \"/Users/wachiii/Workschii/brain-mdd/data/balanced16preprocess/hc1624preprocessed.fif\"\n",
    "fifFileMddEpochPath = \"/Users/wachiii/Workschii/brain-mdd/data/balanced16preprocess/mdd1624preprocessed.fif\"   \n",
    "\n",
    "allFeatureDirPath = \"/Users/wachiii/Workschii/brain-mdd/data/balancedfeatures\"\n",
    "# mddRaw = mne.io.read_raw_fif(fifFileMddPath)\n",
    "# hcRaw = mne.io.read_raw_fif(fifFileHcPath)\n",
    "# print(mddRaw)\n",
    "# print(hcRaw)"
   ]
  },
  {
   "cell_type": "markdown",
   "metadata": {},
   "source": [
    "## Preprocessing\n",
    "- bandpass filter 0.5 - 40 Hz\n",
    "- Epoching for 10 sec => 10*250 = 2500 samples"
   ]
  },
  {
   "cell_type": "code",
   "execution_count": null,
   "metadata": {},
   "outputs": [],
   "source": [
    "# do preprocessing: bandpass filter 0.5 - 40 Hz\n",
    "mddEeg = mddRaw.load_data()\n",
    "hcEeg = hcRaw.load_data()\n",
    "\n",
    "mddEeg.filter(0.5, 40, fir_design='firwin')\n",
    "hcEeg.filter(0.5, 40, fir_design='firwin')\n",
    "\n",
    "# plot psd only 1 channel\n",
    "mddEeg.plot_psd(fmin=0.5, fmax=40, average=True, spatial_colors=True) \n",
    "hcEeg.plot_psd(fmin=0.5, fmax=40, average=True, spatial_colors=True)\n",
    "\n",
    "# do epoching; fs = 250, total samples = 1784136 where 1784136/24 = 74339.0 samples per subject -> i want epoch for 10 seconds\n",
    "# 10 seconds = 2500 samples\n",
    "\n",
    "mddEpochs = mne.make_fixed_length_epochs(mddEeg, duration=10, preload=True)\n",
    "hcEpochs = mne.make_fixed_length_epochs(hcEeg, duration=10, preload=True)\n",
    "\n",
    "print(mddEpochs)\n",
    "print(hcEpochs)\n",
    "\n",
    "# mddEpochs.save(\"/Users/wachiii/Workschii/brain-mdd/data/balanced16preprocess/mdd1624preprocessed.fif\", overwrite=True)\n",
    "# hcEpochs.save(\"/Users/wachiii/Workschii/brain-mdd/data/balanced16preprocess/hc1624preprocessed.fif\", overwrite=True)"
   ]
  },
  {
   "cell_type": "code",
   "execution_count": null,
   "metadata": {},
   "outputs": [],
   "source": [
    "74339.0/(10*250)"
   ]
  },
  {
   "cell_type": "markdown",
   "metadata": {},
   "source": [
    "## Feature Extraction"
   ]
  },
  {
   "cell_type": "markdown",
   "metadata": {},
   "source": [
    "### 1. PSD"
   ]
  },
  {
   "cell_type": "code",
   "execution_count": null,
   "metadata": {},
   "outputs": [],
   "source": [
    "import dotenv\n",
    "import numpy as np\n",
    "import os\n",
    "import matplotlib.pyplot as plt\n",
    "import pandas as pd\n",
    "from brainmdd.features.psd import EEGPowerSpectrum\n",
    "import mne\n",
    "import enum\n",
    "\n",
    "dotenv.load_dotenv()\n",
    "\n",
    "class ChannelMapping(enum.Enum):\n",
    "    Fp1 = 22\n",
    "    Fp2 = 9\n",
    "    F3 = 24\n",
    "    F4 = 124\n",
    "    C3 = 36\n",
    "    C4 = 104\n",
    "    P3 = 52\n",
    "    P4 = 92\n",
    "    O1 = 70\n",
    "    O2 = 83\n",
    "    F7 = 33\n",
    "    F8 = 122\n",
    "    T3 = 45\n",
    "    T4 = 108\n",
    "    T5 = 58\n",
    "    T6 = 96\n",
    "\n",
    "# Declare Global Variables\n",
    "NUM_CHANNELS = 16\n",
    "MODMA_SFREQ = 250\n",
    "\n",
    "\n",
    "# Declare Feature Dictionary\n",
    "featureDict = {\n",
    "    \"norm_power\": {\n",
    "        \"mdd\": {\n",
    "            \"delta\": [],\n",
    "            \"theta\": [],\n",
    "            \"alpha\": [],\n",
    "            \"beta\": [],\n",
    "            \"gamma\": []\n",
    "            },\n",
    "        \"control\": {\n",
    "            \"delta\": [],\n",
    "            \"theta\": [],\n",
    "            \"alpha\": [],\n",
    "            \"beta\": [],\n",
    "            \"gamma\": []\n",
    "            }\n",
    "        }\n",
    "    }    "
   ]
  },
  {
   "cell_type": "code",
   "execution_count": null,
   "metadata": {},
   "outputs": [],
   "source": [
    "# Load the epochs\n",
    "mddEpochs = mne.read_epochs(fifFileMddEpochPath)\n",
    "hcEpochs = mne.read_epochs(fifFileHcEpochPath)\n",
    "\n",
    "print(len(mddEpochs))\n",
    "print(len(hcEpochs))\n",
    "\n",
    "print(mddEpochs.get_data()[0].shape)\n",
    "print(hcEpochs.get_data()[0].shape)"
   ]
  },
  {
   "cell_type": "code",
   "execution_count": null,
   "metadata": {},
   "outputs": [],
   "source": [
    "psdObjMdd = EEGPowerSpectrum(mddEpochs, 250, ifNormalize=True)\n",
    "mddPsdFeatures = psdObjMdd.run()\n",
    "psdObjCtrl = EEGPowerSpectrum(hcEpochs, 250, ifNormalize=True)\n",
    "hcPsdFeatures = psdObjCtrl.run()\n",
    "print(mddPsdFeatures.shape)\n",
    "print(hcPsdFeatures.shape)"
   ]
  },
  {
   "cell_type": "code",
   "execution_count": null,
   "metadata": {},
   "outputs": [],
   "source": [
    "# save at allFeatureDirPath + /psd\n",
    "np.save(allFeatureDirPath + \"/psd/mddPsdFeatures.npy\", mddPsdFeatures)\n",
    "np.save(allFeatureDirPath + \"/psd/hcPsdFeatures.npy\", hcPsdFeatures)"
   ]
  },
  {
   "cell_type": "markdown",
   "metadata": {},
   "source": [
    "### 2. Phase Connectivity"
   ]
  },
  {
   "cell_type": "code",
   "execution_count": null,
   "metadata": {},
   "outputs": [],
   "source": [
    "import dotenv\n",
    "import numpy as np\n",
    "import os\n",
    "import matplotlib.pyplot as plt\n",
    "import pandas as pd\n",
    "from brainmdd.features.phaseconnectivity import EEGPhaseConnectivity\n",
    "import mne\n",
    "import enum\n",
    "\n",
    "dotenv.load_dotenv()\n",
    "\n",
    "class ChannelMapping(enum.Enum):\n",
    "    Fp1 = 22\n",
    "    Fp2 = 9\n",
    "    F3 = 24\n",
    "    F4 = 124\n",
    "    C3 = 36\n",
    "    C4 = 104\n",
    "    P3 = 52\n",
    "    P4 = 92\n",
    "    O1 = 70\n",
    "    O2 = 83\n",
    "    F7 = 33\n",
    "    F8 = 122\n",
    "    T3 = 45\n",
    "    T4 = 108\n",
    "    T5 = 58\n",
    "    T6 = 96\n",
    "\n",
    "# Declare Global Variables\n",
    "NUM_CHANNELS = 16\n",
    "MODMA_SFREQ = 250\n",
    "\n",
    "\n",
    "# Declare Feature Dictionary\n",
    "featureDict = {\n",
    "    \"phase_connectivity\":{\n",
    "        \"mdd\": [],\n",
    "        \"hc\": []\n",
    "    }\n",
    "}"
   ]
  },
  {
   "cell_type": "code",
   "execution_count": 7,
   "metadata": {},
   "outputs": [
    {
     "name": "stdout",
     "output_type": "stream",
     "text": [
      "Reading /Users/wachiii/Workschii/brain-mdd/data/balanced16preprocess/mdd1624preprocessed.fif ...\n",
      "Isotrak not found\n",
      "    Found the data of interest:\n",
      "        t =       0.00 ...    9996.00 ms\n",
      "        0 CTF compensation matrices available\n",
      "Not setting metadata\n",
      "713 matching events found\n",
      "No baseline correction applied\n",
      "0 projection items activated\n",
      "Reading /Users/wachiii/Workschii/brain-mdd/data/balanced16preprocess/hc1624preprocessed.fif ...\n",
      "Isotrak not found\n",
      "    Found the data of interest:\n",
      "        t =       0.00 ...    9996.00 ms\n",
      "        0 CTF compensation matrices available\n"
     ]
    },
    {
     "name": "stderr",
     "output_type": "stream",
     "text": [
      "/var/folders/kf/plh_bl0s64g1swyqvnc651pr0000gn/T/ipykernel_16757/3262787207.py:2: RuntimeWarning: This filename (/Users/wachiii/Workschii/brain-mdd/data/balanced16preprocess/mdd1624preprocessed.fif) does not conform to MNE naming conventions. All epochs files should end with -epo.fif, -epo.fif.gz, _epo.fif or _epo.fif.gz\n",
      "  mddEpochs = mne.read_epochs(fifFileMddEpochPath)\n",
      "/var/folders/kf/plh_bl0s64g1swyqvnc651pr0000gn/T/ipykernel_16757/3262787207.py:3: RuntimeWarning: This filename (/Users/wachiii/Workschii/brain-mdd/data/balanced16preprocess/hc1624preprocessed.fif) does not conform to MNE naming conventions. All epochs files should end with -epo.fif, -epo.fif.gz, _epo.fif or _epo.fif.gz\n",
      "  hcEpochs = mne.read_epochs(fifFileHcEpochPath)\n"
     ]
    },
    {
     "name": "stdout",
     "output_type": "stream",
     "text": [
      "Not setting metadata\n",
      "713 matching events found\n",
      "No baseline correction applied\n",
      "0 projection items activated\n",
      "(713, 16, 2500)\n",
      "(713, 16, 2500)\n"
     ]
    }
   ],
   "source": [
    "# Load the epochs\n",
    "mddEpochs = mne.read_epochs(fifFileMddEpochPath)\n",
    "hcEpochs = mne.read_epochs(fifFileHcEpochPath)\n",
    "mddEpochs = mddEpochs.get_data()\n",
    "controlEpochs = hcEpochs.get_data()\n",
    "print(mddEpochs.shape)\n",
    "print(controlEpochs.shape)"
   ]
  },
  {
   "cell_type": "code",
   "execution_count": 16,
   "metadata": {},
   "outputs": [
    {
     "name": "stdout",
     "output_type": "stream",
     "text": [
      "(713, 16, 2500)\n"
     ]
    }
   ],
   "source": [
    "print(hcEpochs.get_data().shape)"
   ]
  },
  {
   "cell_type": "code",
   "execution_count": null,
   "metadata": {},
   "outputs": [],
   "source": [
    "phaseConObjMdd = EEGPhaseConnectivity(mddEpochs.get_data(), MODMA_SFREQ, 713, 16, 2500)\n",
    "mddPhaseConFeatures = phaseConObjMdd.run()\n",
    "phaseConObjControl = EEGPhaseConnectivity(hcEpochs, MODMA_SFREQ, 713, 16, 2500)\n",
    "hcPhaseConFeatures = phaseConObjControl.run()"
   ]
  },
  {
   "cell_type": "code",
   "execution_count": null,
   "metadata": {},
   "outputs": [],
   "source": [
    "# save at allFeatureDirPath + /psd\n",
    "np.save(allFeatureDirPath + \"/phase/hcPhaseFeatures.npy\", mddPhaseConFeatures)\n",
    "np.save(allFeatureDirPath + \"/phase/hcPhaseFeatures.npy\", hcPsdFeatures)"
   ]
  },
  {
   "cell_type": "markdown",
   "metadata": {},
   "source": [
    "### 3. HFD"
   ]
  },
  {
   "cell_type": "code",
   "execution_count": null,
   "metadata": {},
   "outputs": [],
   "source": [
    "import dotenv\n",
    "import numpy as np\n",
    "import os\n",
    "import matplotlib.pyplot as plt\n",
    "import pandas as pd\n",
    "from brainmdd.features.hfd import EEGHiguchiFractalDimension\n",
    "import mne\n",
    "import enum\n",
    "\n",
    "dotenv.load_dotenv()\n",
    "\n",
    "class ChannelMapping(enum.Enum):\n",
    "    Fp1 = 22\n",
    "    Fp2 = 9\n",
    "    F3 = 24\n",
    "    F4 = 124\n",
    "    C3 = 36\n",
    "    C4 = 104\n",
    "    P3 = 52\n",
    "    P4 = 92\n",
    "    O1 = 70\n",
    "    O2 = 83\n",
    "    F7 = 33\n",
    "    F8 = 122\n",
    "    T3 = 45\n",
    "    T4 = 108\n",
    "    T5 = 58\n",
    "    T6 = 96\n",
    "\n",
    "# Declare Global Variables\n",
    "NUM_CHANNELS = 16\n",
    "MODMA_SFREQ = 250\n",
    "\n",
    "\n",
    "# Declare Feature Dictionary\n",
    "featureDict = {\n",
    "    \"HFD\": {\n",
    "        \"mdd\": [],\n",
    "        \"control\": []\n",
    "    }\n",
    "}"
   ]
  },
  {
   "cell_type": "code",
   "execution_count": 22,
   "metadata": {},
   "outputs": [
    {
     "name": "stdout",
     "output_type": "stream",
     "text": [
      "Reading /Users/wachiii/Workschii/brain-mdd/data/balanced16preprocess/mdd1624preprocessed.fif ...\n",
      "Isotrak not found\n",
      "    Found the data of interest:\n",
      "        t =       0.00 ...    9996.00 ms\n",
      "        0 CTF compensation matrices available\n"
     ]
    },
    {
     "name": "stderr",
     "output_type": "stream",
     "text": [
      "/var/folders/kf/plh_bl0s64g1swyqvnc651pr0000gn/T/ipykernel_16757/1695134047.py:2: RuntimeWarning: This filename (/Users/wachiii/Workschii/brain-mdd/data/balanced16preprocess/mdd1624preprocessed.fif) does not conform to MNE naming conventions. All epochs files should end with -epo.fif, -epo.fif.gz, _epo.fif or _epo.fif.gz\n",
      "  mddEpochs = mne.read_epochs(fifFileMddEpochPath)\n"
     ]
    },
    {
     "name": "stdout",
     "output_type": "stream",
     "text": [
      "Not setting metadata\n",
      "713 matching events found\n",
      "No baseline correction applied\n",
      "0 projection items activated\n",
      "Reading /Users/wachiii/Workschii/brain-mdd/data/balanced16preprocess/hc1624preprocessed.fif ...\n",
      "Isotrak not found\n",
      "    Found the data of interest:\n",
      "        t =       0.00 ...    9996.00 ms\n",
      "        0 CTF compensation matrices available\n",
      "Not setting metadata\n",
      "713 matching events found\n",
      "No baseline correction applied\n",
      "0 projection items activated\n"
     ]
    },
    {
     "name": "stderr",
     "output_type": "stream",
     "text": [
      "/var/folders/kf/plh_bl0s64g1swyqvnc651pr0000gn/T/ipykernel_16757/1695134047.py:3: RuntimeWarning: This filename (/Users/wachiii/Workschii/brain-mdd/data/balanced16preprocess/hc1624preprocessed.fif) does not conform to MNE naming conventions. All epochs files should end with -epo.fif, -epo.fif.gz, _epo.fif or _epo.fif.gz\n",
      "  hcEpochs = mne.read_epochs(fifFileHcEpochPath)\n"
     ]
    },
    {
     "name": "stdout",
     "output_type": "stream",
     "text": [
      "(713, 16, 2500)\n",
      "(713, 16, 2500)\n"
     ]
    }
   ],
   "source": [
    "# Load the epochs\n",
    "mddEpochs = mne.read_epochs(fifFileMddEpochPath)\n",
    "hcEpochs = mne.read_epochs(fifFileHcEpochPath)\n",
    "mddEpochs = mddEpochs.get_data()\n",
    "hcEpochs = hcEpochs.get_data()\n",
    "print(mddEpochs.shape)\n",
    "print(hcEpochs.shape)"
   ]
  },
  {
   "cell_type": "code",
   "execution_count": 26,
   "metadata": {},
   "outputs": [
    {
     "name": "stdout",
     "output_type": "stream",
     "text": [
      "(713, 16)\n",
      "(713, 16)\n"
     ]
    }
   ],
   "source": [
    "hfdObjMdd = EEGHiguchiFractalDimension(mddEpochs)\n",
    "mddHfdFeatures = hfdObjMdd.run()\n",
    "hfdObjControl = EEGHiguchiFractalDimension(hcEpochs)\n",
    "hcHfdFeatures = hfdObjControl.run()\n",
    "\n",
    "print(mddHfdFeatures.shape)\n",
    "print(hcHfdFeatures.shape)"
   ]
  },
  {
   "cell_type": "code",
   "execution_count": 28,
   "metadata": {},
   "outputs": [],
   "source": [
    "# save at allFeatureDirPath + /psd\n",
    "np.save(allFeatureDirPath + \"/hfd/mddHfdFeatures.npy\", mddHfdFeatures)\n",
    "np.save(allFeatureDirPath + \"/hfd/hcHfdFeatures.npy\", hcHfdFeatures)"
   ]
  },
  {
   "cell_type": "markdown",
   "metadata": {},
   "source": [
    "### 4. Coherences"
   ]
  },
  {
   "cell_type": "code",
   "execution_count": 29,
   "metadata": {},
   "outputs": [],
   "source": [
    "import dotenv\n",
    "import numpy as np\n",
    "import os\n",
    "import matplotlib.pyplot as plt\n",
    "import pandas as pd\n",
    "from brainmdd.features.coherence import EEGCoherence\n",
    "import mne\n",
    "import enum\n",
    "\n",
    "dotenv.load_dotenv()\n",
    "\n",
    "class ChannelMapping(enum.Enum):\n",
    "    Fp1 = 22\n",
    "    Fp2 = 9 \n",
    "    F3 = 24\n",
    "    F4 = 124\n",
    "    C3 = 36\n",
    "    C4 = 104\n",
    "    P3 = 52\n",
    "    P4 = 92\n",
    "    O1 = 70\n",
    "    O2 = 83\n",
    "    F7 = 33\n",
    "    F8 = 122\n",
    "    T3 = 45\n",
    "    T4 = 108\n",
    "    T5 = 58\n",
    "    T6 = 96\n",
    "\n",
    "# Declare Global Variables\n",
    "NUM_CHANNELS = 16\n",
    "MODMA_SFREQ = 250\n",
    "\n",
    "\n",
    "# Declare Feature Dictionary\n",
    "featureDict = {\n",
    "    \"coherence\": {\n",
    "        \"mdd\": {\n",
    "            \"delta\": [],\n",
    "            \"theta\": [],\n",
    "            \"alpha\": [],\n",
    "            \"beta\": [],\n",
    "            \"gamma\": []\n",
    "            },\n",
    "        \"control\": {\n",
    "            \"delta\": [],\n",
    "            \"theta\": [],\n",
    "            \"alpha\": [],\n",
    "            \"beta\": [],\n",
    "            \"gamma\": []\n",
    "            }\n",
    "        }\n",
    "    } \n"
   ]
  },
  {
   "cell_type": "code",
   "execution_count": 30,
   "metadata": {},
   "outputs": [
    {
     "name": "stdout",
     "output_type": "stream",
     "text": [
      "Reading /Users/wachiii/Workschii/brain-mdd/data/balanced16preprocess/mdd1624preprocessed.fif ...\n",
      "Isotrak not found\n",
      "    Found the data of interest:\n",
      "        t =       0.00 ...    9996.00 ms\n",
      "        0 CTF compensation matrices available\n"
     ]
    },
    {
     "name": "stderr",
     "output_type": "stream",
     "text": [
      "/var/folders/kf/plh_bl0s64g1swyqvnc651pr0000gn/T/ipykernel_16757/1994406543.py:1: RuntimeWarning: This filename (/Users/wachiii/Workschii/brain-mdd/data/balanced16preprocess/mdd1624preprocessed.fif) does not conform to MNE naming conventions. All epochs files should end with -epo.fif, -epo.fif.gz, _epo.fif or _epo.fif.gz\n",
      "  mddEpochs = mne.read_epochs(fifFileMddEpochPath)\n"
     ]
    },
    {
     "name": "stdout",
     "output_type": "stream",
     "text": [
      "Not setting metadata\n",
      "713 matching events found\n",
      "No baseline correction applied\n",
      "0 projection items activated\n",
      "Reading /Users/wachiii/Workschii/brain-mdd/data/balanced16preprocess/hc1624preprocessed.fif ...\n",
      "Isotrak not found\n",
      "    Found the data of interest:\n",
      "        t =       0.00 ...    9996.00 ms\n",
      "        0 CTF compensation matrices available\n",
      "Not setting metadata\n",
      "713 matching events found\n",
      "No baseline correction applied\n",
      "0 projection items activated\n"
     ]
    },
    {
     "name": "stderr",
     "output_type": "stream",
     "text": [
      "/var/folders/kf/plh_bl0s64g1swyqvnc651pr0000gn/T/ipykernel_16757/1994406543.py:2: RuntimeWarning: This filename (/Users/wachiii/Workschii/brain-mdd/data/balanced16preprocess/hc1624preprocessed.fif) does not conform to MNE naming conventions. All epochs files should end with -epo.fif, -epo.fif.gz, _epo.fif or _epo.fif.gz\n",
      "  hcEpochs = mne.read_epochs(fifFileHcEpochPath)\n"
     ]
    },
    {
     "name": "stdout",
     "output_type": "stream",
     "text": [
      "(713, 16, 2500)\n",
      "(713, 16, 2500)\n"
     ]
    }
   ],
   "source": [
    "mddEpochs = mne.read_epochs(fifFileMddEpochPath)\n",
    "hcEpochs = mne.read_epochs(fifFileHcEpochPath)\n",
    "mddEpochs = mddEpochs.get_data()\n",
    "hcEpochs = hcEpochs.get_data()\n",
    "print(mddEpochs.shape)\n",
    "print(hcEpochs.shape)"
   ]
  },
  {
   "cell_type": "code",
   "execution_count": 31,
   "metadata": {},
   "outputs": [
    {
     "name": "stdout",
     "output_type": "stream",
     "text": [
      "(713, 5, 120)\n",
      "(713, 5, 120)\n"
     ]
    }
   ],
   "source": [
    "coherenceObjMdd = EEGCoherence(mddEpochs, MODMA_SFREQ)\n",
    "mddCohFeatures = coherenceObjMdd.run()\n",
    "coherenceObjControl = EEGCoherence(hcEpochs, MODMA_SFREQ)\n",
    "hcCohFeatures = coherenceObjControl.run()\n",
    "\n",
    "print(mddCohFeatures.shape)\n",
    "print(hcCohFeatures.shape)"
   ]
  },
  {
   "cell_type": "code",
   "execution_count": 32,
   "metadata": {},
   "outputs": [],
   "source": [
    "# save at allFeatureDirPath + /psd\n",
    "np.save(allFeatureDirPath + \"/coh/mddCohFeatures.npy\", mddCohFeatures)\n",
    "np.save(allFeatureDirPath + \"/coh/hcCohFeatures.npy\", hcCohFeatures)"
   ]
  },
  {
   "cell_type": "markdown",
   "metadata": {},
   "source": [
    "### 5. Cd"
   ]
  },
  {
   "cell_type": "code",
   "execution_count": 34,
   "metadata": {},
   "outputs": [],
   "source": [
    "import dotenv\n",
    "import numpy as np\n",
    "import os\n",
    "import matplotlib.pyplot as plt\n",
    "import pandas as pd\n",
    "from brainmdd.features.correlationdimension import EEGCorrelationDimension\n",
    "import mne\n",
    "import enum\n",
    "\n",
    "dotenv.load_dotenv()\n",
    "\n",
    "class ChannelMapping(enum.Enum):\n",
    "    Fp1 = 22\n",
    "    Fp2 = 9\n",
    "    F3 = 24\n",
    "    F4 = 124\n",
    "    C3 = 36\n",
    "    C4 = 104\n",
    "    P3 = 52\n",
    "    P4 = 92\n",
    "    O1 = 70\n",
    "    O2 = 83\n",
    "    F7 = 33\n",
    "    F8 = 122\n",
    "    T3 = 45\n",
    "    T4 = 108\n",
    "    T5 = 58\n",
    "    T6 = 96\n",
    "\n",
    "# Declare Global Variables\n",
    "NUM_CHANNELS = 16\n",
    "MODMA_SFREQ = 250\n",
    "\n",
    "\n",
    "# Declare Feature Dictionary\n",
    "featureDict = {\n",
    "    \"CD\": {\n",
    "        \"mdd\": [],\n",
    "        \"control\": []\n",
    "    }\n",
    "}"
   ]
  },
  {
   "cell_type": "code",
   "execution_count": 35,
   "metadata": {},
   "outputs": [
    {
     "name": "stdout",
     "output_type": "stream",
     "text": [
      "Reading /Users/wachiii/Workschii/brain-mdd/data/balanced16preprocess/mdd1624preprocessed.fif ...\n",
      "Isotrak not found\n",
      "    Found the data of interest:\n",
      "        t =       0.00 ...    9996.00 ms\n",
      "        0 CTF compensation matrices available\n"
     ]
    },
    {
     "name": "stderr",
     "output_type": "stream",
     "text": [
      "/var/folders/kf/plh_bl0s64g1swyqvnc651pr0000gn/T/ipykernel_16757/1994406543.py:1: RuntimeWarning: This filename (/Users/wachiii/Workschii/brain-mdd/data/balanced16preprocess/mdd1624preprocessed.fif) does not conform to MNE naming conventions. All epochs files should end with -epo.fif, -epo.fif.gz, _epo.fif or _epo.fif.gz\n",
      "  mddEpochs = mne.read_epochs(fifFileMddEpochPath)\n"
     ]
    },
    {
     "name": "stdout",
     "output_type": "stream",
     "text": [
      "Not setting metadata\n",
      "713 matching events found\n",
      "No baseline correction applied\n",
      "0 projection items activated\n",
      "Reading /Users/wachiii/Workschii/brain-mdd/data/balanced16preprocess/hc1624preprocessed.fif ...\n",
      "Isotrak not found\n",
      "    Found the data of interest:\n",
      "        t =       0.00 ...    9996.00 ms\n",
      "        0 CTF compensation matrices available\n"
     ]
    },
    {
     "name": "stderr",
     "output_type": "stream",
     "text": [
      "/var/folders/kf/plh_bl0s64g1swyqvnc651pr0000gn/T/ipykernel_16757/1994406543.py:2: RuntimeWarning: This filename (/Users/wachiii/Workschii/brain-mdd/data/balanced16preprocess/hc1624preprocessed.fif) does not conform to MNE naming conventions. All epochs files should end with -epo.fif, -epo.fif.gz, _epo.fif or _epo.fif.gz\n",
      "  hcEpochs = mne.read_epochs(fifFileHcEpochPath)\n"
     ]
    },
    {
     "name": "stdout",
     "output_type": "stream",
     "text": [
      "Not setting metadata\n",
      "713 matching events found\n",
      "No baseline correction applied\n",
      "0 projection items activated\n",
      "(713, 16, 2500)\n",
      "(713, 16, 2500)\n"
     ]
    }
   ],
   "source": [
    "mddEpochs = mne.read_epochs(fifFileMddEpochPath)\n",
    "hcEpochs = mne.read_epochs(fifFileHcEpochPath)\n",
    "mddEpochs = mddEpochs.get_data()\n",
    "hcEpochs = hcEpochs.get_data()\n",
    "print(mddEpochs.shape)\n",
    "print(hcEpochs.shape)"
   ]
  },
  {
   "cell_type": "code",
   "execution_count": 36,
   "metadata": {},
   "outputs": [],
   "source": [
    "cdObjMdd = EEGCorrelationDimension(mddEpochs)\n",
    "mddCdFeatures = cdObjMdd.run()\n",
    "cdObjControl = EEGCorrelationDimension(hcEpochs)\n",
    "hcCdFeatures = cdObjControl.run()\n",
    "\n",
    "for epoch in mddCdFeatures:\n",
    "    featureDict[\"CD\"][\"mdd\"].append(epoch)\n",
    "for epoch in hcCdFeatures:\n",
    "    featureDict[\"CD\"][\"control\"].append(epoch)"
   ]
  },
  {
   "cell_type": "code",
   "execution_count": 37,
   "metadata": {},
   "outputs": [],
   "source": [
    "# save at allFeatureDirPath + /psd\n",
    "np.save(allFeatureDirPath + \"/cd/mddCdFeatures.npy\", mddCdFeatures)\n",
    "np.save(allFeatureDirPath + \"/cd/hcCdFeatures.npy\", hcCdFeatures)"
   ]
  }
 ],
 "metadata": {
  "kernelspec": {
   "display_name": "brain-mdd",
   "language": "python",
   "name": "python3"
  },
  "language_info": {
   "codemirror_mode": {
    "name": "ipython",
    "version": 3
   },
   "file_extension": ".py",
   "mimetype": "text/x-python",
   "name": "python",
   "nbconvert_exporter": "python",
   "pygments_lexer": "ipython3",
   "version": "3.12.7"
  }
 },
 "nbformat": 4,
 "nbformat_minor": 2
}
