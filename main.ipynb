{
 "cells": [
  {
   "cell_type": "code",
   "execution_count": 1,
   "metadata": {},
   "outputs": [
    {
     "name": "stdout",
     "output_type": "stream",
     "text": [
      "Opening raw data file /Users/wachiii/Workschii/brain-mdd/data/balanced16channels/mdd1624.fif...\n"
     ]
    },
    {
     "name": "stderr",
     "output_type": "stream",
     "text": [
      "/var/folders/kf/plh_bl0s64g1swyqvnc651pr0000gn/T/ipykernel_12635/4025819261.py:10: RuntimeWarning: This filename (/Users/wachiii/Workschii/brain-mdd/data/balanced16channels/mdd1624.fif) does not conform to MNE naming conventions. All raw files should end with raw.fif, raw_sss.fif, raw_tsss.fif, _meg.fif, _eeg.fif, _ieeg.fif, raw.fif.gz, raw_sss.fif.gz, raw_tsss.fif.gz, _meg.fif.gz, _eeg.fif.gz or _ieeg.fif.gz\n",
      "  mddRaw = mne.io.read_raw_fif(fifFileMddPath)\n"
     ]
    },
    {
     "name": "stdout",
     "output_type": "stream",
     "text": [
      "Isotrak not found\n",
      "    Range : 0 ... 1784135 =      0.000 ...  7136.540 secs\n",
      "Ready.\n",
      "Opening raw data file /Users/wachiii/Workschii/brain-mdd/data/balanced16channels/hc1624.fif...\n"
     ]
    },
    {
     "name": "stderr",
     "output_type": "stream",
     "text": [
      "/var/folders/kf/plh_bl0s64g1swyqvnc651pr0000gn/T/ipykernel_12635/4025819261.py:11: RuntimeWarning: This filename (/Users/wachiii/Workschii/brain-mdd/data/balanced16channels/hc1624.fif) does not conform to MNE naming conventions. All raw files should end with raw.fif, raw_sss.fif, raw_tsss.fif, _meg.fif, _eeg.fif, _ieeg.fif, raw.fif.gz, raw_sss.fif.gz, raw_tsss.fif.gz, _meg.fif.gz, _eeg.fif.gz or _ieeg.fif.gz\n",
      "  hcRaw = mne.io.read_raw_fif(fifFileHcPath)\n"
     ]
    },
    {
     "name": "stdout",
     "output_type": "stream",
     "text": [
      "Isotrak not found\n",
      "    Range : 0 ... 1784135 =      0.000 ...  7136.540 secs\n",
      "Ready.\n",
      "<Raw | mdd1624.fif, 16 x 1784136 (7136.5 s), ~18 kB, data not loaded>\n",
      "<Raw | hc1624.fif, 16 x 1784136 (7136.5 s), ~18 kB, data not loaded>\n"
     ]
    }
   ],
   "source": [
    "import os\n",
    "import numpy as np\n",
    "import pandas as pd\n",
    "import mne \n",
    "\n",
    "\n",
    "fifFileMddPath = \"/Users/wachiii/Workschii/brain-mdd/data/balanced16channels/mdd1624.fif\"\n",
    "fifFileHcPath = \"/Users/wachiii/Workschii/brain-mdd/data/balanced16channels/hc1624.fif\"\n",
    "\n",
    "mddRaw = mne.io.read_raw_fif(fifFileMddPath)\n",
    "hcRaw = mne.io.read_raw_fif(fifFileHcPath)\n",
    "print(mddRaw)\n",
    "print(hcRaw)"
   ]
  },
  {
   "cell_type": "markdown",
   "metadata": {},
   "source": [
    "## Feature Extraction"
   ]
  },
  {
   "cell_type": "markdown",
   "metadata": {},
   "source": [
    "### 1. PSD"
   ]
  },
  {
   "cell_type": "code",
   "execution_count": null,
   "metadata": {},
   "outputs": [],
   "source": []
  }
 ],
 "metadata": {
  "kernelspec": {
   "display_name": "brain-mdd",
   "language": "python",
   "name": "python3"
  },
  "language_info": {
   "codemirror_mode": {
    "name": "ipython",
    "version": 3
   },
   "file_extension": ".py",
   "mimetype": "text/x-python",
   "name": "python",
   "nbconvert_exporter": "python",
   "pygments_lexer": "ipython3",
   "version": "3.12.7"
  }
 },
 "nbformat": 4,
 "nbformat_minor": 2
}
