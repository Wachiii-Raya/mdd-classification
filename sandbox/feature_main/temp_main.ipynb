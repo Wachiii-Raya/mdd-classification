{
 "cells": [
  {
   "cell_type": "markdown",
   "metadata": {},
   "source": [
    "## Brain-MDD project"
   ]
  },
  {
   "cell_type": "code",
   "execution_count": null,
   "metadata": {},
   "outputs": [
    {
     "name": "stdout",
     "output_type": "stream",
     "text": [
      "(1753, 16, 1250)\n",
      "(1328, 16, 1250)\n",
      "(1753, 16)\n",
      "(1328, 16)\n",
      "(1753, 5, 120)\n",
      "(1328, 5, 120)\n",
      "(1753, 16, 1250)\n",
      "(1328, 16, 1250)\n",
      "(1753, 5, 16)\n",
      "(1328, 5, 16)\n"
     ]
    }
   ],
   "source": [
    "import os\n",
    "import numpy as np\n",
    "import joblib\n",
    "import pandas as pd\n",
    "from tqdm import tqdm\n",
    "from sklearn.model_selection import train_test_split, GridSearchCV, cross_val_score\n",
    "from sklearn.decomposition import PCA\n",
    "from sklearn.feature_selection import SelectKBest, f_classif, VarianceThreshold\n",
    "from sklearn.neighbors import KNeighborsClassifier\n",
    "from sklearn.svm import SVC\n",
    "from sklearn.discriminant_analysis import LinearDiscriminantAnalysis\n",
    "from sklearn.tree import DecisionTreeClassifier\n",
    "from sklearn.ensemble import RandomForestClassifier\n",
    "from sklearn.linear_model import LogisticRegression\n",
    "from sklearn.metrics import accuracy_score\n",
    "import dotenv\n",
    "import warnings\n",
    "\n",
    "dotenv.load_dotenv()\n",
    "warnings.filterwarnings(\"ignore\")\n",
    "FEATURES_DIR_PATH = os.getenv(\"FEATURES_DIR_PATH\")\n",
    "\n",
    "controlCdFeatures = np.load(os.path.join(FEATURES_DIR_PATH + \"/cd\", \"control\"))\n",
    "mddCdFeatures = np.load(os.path.join(FEATURES_DIR_PATH + \"/cd\", \"mdd\"))\n",
    "controlHfdFeatures = np.load(os.path.join(FEATURES_DIR_PATH + \"/hfd\", \"control\"))\n",
    "mddHfdFeatures = np.load(os.path.join(FEATURES_DIR_PATH + \"/hfd\", \"mdd\"))\n",
    "controlCohFeatures = np.load(os.path.join(FEATURES_DIR_PATH + \"/coh\", \"control\"))\n",
    "mddCohFeatures = np.load(os.path.join(FEATURES_DIR_PATH + \"/coh\", \"mdd\"))\n",
    "controlPhaseFeatures = np.load(os.path.join(FEATURES_DIR_PATH + \"/phase\", \"control\"))\n",
    "mddPhaseFeatures = np.load(os.path.join(FEATURES_DIR_PATH + \"/phase\", \"mdd\"))\n",
    "controlPsdFeatures = np.load(os.path.join(FEATURES_DIR_PATH + \"/psd\", \"control\"))\n",
    "mddPsdFeatures = np.load(os.path.join(FEATURES_DIR_PATH + \"/psd\", \"mdd\"))\n",
    "\n",
    "print(controlCdFeatures.shape)\n",
    "print(mddCdFeatures.shape)\n",
    "print(controlHfdFeatures.shape)\n",
    "print(mddHfdFeatures.shape)\n",
    "print(controlCohFeatures.shape)\n",
    "print(mddCohFeatures.shape)\n",
    "print(controlPhaseFeatures.shape)\n",
    "print(mddPhaseFeatures.shape)\n",
    "print(controlPsdFeatures.shape)\n",
    "print(mddPsdFeatures.shape)"
   ]
  },
  {
   "cell_type": "code",
   "execution_count": 6,
   "metadata": {},
   "outputs": [],
   "source": [
    "def flatten_and_concat(features_list):\n",
    "    flattened = [feat.reshape(feat.shape[0], -1) for feat in features_list]  \n",
    "    min_epochs = min(feat.shape[0] for feat in flattened)\n",
    "    flattened = [feat[:min_epochs] for feat in flattened]  \n",
    "    return np.concatenate(flattened, axis=1)\n",
    "\n",
    "\n",
    "def save_model(model, folder_name, model_name, batch_size, feature_selection_method):\n",
    "    folder_path = os.path.join(\"models\", folder_name, f\"{feature_selection_method}\", f\"batch_{batch_size}\")\n",
    "    os.makedirs(folder_path, exist_ok=True)\n",
    "    model_path = os.path.join(folder_path, f\"{model_name}.joblib\")\n",
    "    joblib.dump(model, model_path)\n",
    "    print(f\"Model saved: {model_path}\")"
   ]
  },
  {
   "cell_type": "code",
   "execution_count": 9,
   "metadata": {},
   "outputs": [
    {
     "name": "stdout",
     "output_type": "stream",
     "text": [
      "(3081, 40696)\n",
      "(3081,)\n"
     ]
    }
   ],
   "source": [
    "controlFeatures = flatten_and_concat([\n",
    "    controlCdFeatures, controlHfdFeatures, controlCohFeatures, controlPhaseFeatures, controlPsdFeatures\n",
    "])\n",
    "\n",
    "mddFeatures = flatten_and_concat([\n",
    "    mddCdFeatures, mddHfdFeatures, mddCohFeatures, mddPhaseFeatures, mddPsdFeatures\n",
    "])\n",
    "\n",
    "X = np.concatenate((controlFeatures, mddFeatures), axis=0)\n",
    "y = np.concatenate((np.zeros(len(controlFeatures)), np.ones(len(mddFeatures))), axis=0)\n",
    "\n",
    "# check shape\n",
    "print(X.shape)\n",
    "print(y.shape)"
   ]
  },
  {
   "cell_type": "code",
   "execution_count": 8,
   "metadata": {},
   "outputs": [
    {
     "name": "stdout",
     "output_type": "stream",
     "text": [
      "\n",
      "=== Processing Batch Size: 16 ===\n",
      "\n",
      "\n",
      "Applying Feature Selection: NoFeatureSelection\n"
     ]
    },
    {
     "name": "stderr",
     "output_type": "stream",
     "text": [
      "Training Models (NoFeatureSelection, Batch 16):   0%|          | 0/6 [00:00<?, ?it/s]"
     ]
    },
    {
     "name": "stdout",
     "output_type": "stream",
     "text": [
      "🔍 Tuning KNN...\n"
     ]
    },
    {
     "name": "stderr",
     "output_type": "stream",
     "text": [
      "Training Models (NoFeatureSelection, Batch 16):   0%|          | 0/6 [00:05<?, ?it/s]\n"
     ]
    },
    {
     "ename": "KeyboardInterrupt",
     "evalue": "",
     "output_type": "error",
     "traceback": [
      "\u001b[0;31m---------------------------------------------------------------------------\u001b[0m",
      "\u001b[0;31mKeyboardInterrupt\u001b[0m                         Traceback (most recent call last)",
      "Cell \u001b[0;32mIn[8], line 39\u001b[0m\n\u001b[1;32m     37\u001b[0m \u001b[38;5;28mprint\u001b[39m(\u001b[38;5;124mf\u001b[39m\u001b[38;5;124m\"\u001b[39m\u001b[38;5;124m🔍 Tuning \u001b[39m\u001b[38;5;132;01m{\u001b[39;00mname\u001b[38;5;132;01m}\u001b[39;00m\u001b[38;5;124m...\u001b[39m\u001b[38;5;124m\"\u001b[39m)\n\u001b[1;32m     38\u001b[0m grid_search \u001b[38;5;241m=\u001b[39m GridSearchCV(model, param_grid, cv\u001b[38;5;241m=\u001b[39m\u001b[38;5;241m10\u001b[39m, scoring\u001b[38;5;241m=\u001b[39m\u001b[38;5;124m\"\u001b[39m\u001b[38;5;124maccuracy\u001b[39m\u001b[38;5;124m\"\u001b[39m, n_jobs\u001b[38;5;241m=\u001b[39m\u001b[38;5;241m-\u001b[39m\u001b[38;5;241m1\u001b[39m)\n\u001b[0;32m---> 39\u001b[0m \u001b[43mgrid_search\u001b[49m\u001b[38;5;241;43m.\u001b[39;49m\u001b[43mfit\u001b[49m\u001b[43m(\u001b[49m\u001b[43mX_train_transformed\u001b[49m\u001b[43m,\u001b[49m\u001b[43m \u001b[49m\u001b[43my_train\u001b[49m\u001b[43m)\u001b[49m\n\u001b[1;32m     40\u001b[0m best_model \u001b[38;5;241m=\u001b[39m grid_search\u001b[38;5;241m.\u001b[39mbest_estimator_\n\u001b[1;32m     41\u001b[0m best_params \u001b[38;5;241m=\u001b[39m grid_search\u001b[38;5;241m.\u001b[39mbest_params_\n",
      "File \u001b[0;32m~/miniconda3/envs/brain-mdd/lib/python3.12/site-packages/sklearn/base.py:1473\u001b[0m, in \u001b[0;36m_fit_context.<locals>.decorator.<locals>.wrapper\u001b[0;34m(estimator, *args, **kwargs)\u001b[0m\n\u001b[1;32m   1466\u001b[0m     estimator\u001b[38;5;241m.\u001b[39m_validate_params()\n\u001b[1;32m   1468\u001b[0m \u001b[38;5;28;01mwith\u001b[39;00m config_context(\n\u001b[1;32m   1469\u001b[0m     skip_parameter_validation\u001b[38;5;241m=\u001b[39m(\n\u001b[1;32m   1470\u001b[0m         prefer_skip_nested_validation \u001b[38;5;129;01mor\u001b[39;00m global_skip_validation\n\u001b[1;32m   1471\u001b[0m     )\n\u001b[1;32m   1472\u001b[0m ):\n\u001b[0;32m-> 1473\u001b[0m     \u001b[38;5;28;01mreturn\u001b[39;00m \u001b[43mfit_method\u001b[49m\u001b[43m(\u001b[49m\u001b[43mestimator\u001b[49m\u001b[43m,\u001b[49m\u001b[43m \u001b[49m\u001b[38;5;241;43m*\u001b[39;49m\u001b[43margs\u001b[49m\u001b[43m,\u001b[49m\u001b[43m \u001b[49m\u001b[38;5;241;43m*\u001b[39;49m\u001b[38;5;241;43m*\u001b[39;49m\u001b[43mkwargs\u001b[49m\u001b[43m)\u001b[49m\n",
      "File \u001b[0;32m~/miniconda3/envs/brain-mdd/lib/python3.12/site-packages/sklearn/model_selection/_search.py:1019\u001b[0m, in \u001b[0;36mBaseSearchCV.fit\u001b[0;34m(self, X, y, **params)\u001b[0m\n\u001b[1;32m   1013\u001b[0m     results \u001b[38;5;241m=\u001b[39m \u001b[38;5;28mself\u001b[39m\u001b[38;5;241m.\u001b[39m_format_results(\n\u001b[1;32m   1014\u001b[0m         all_candidate_params, n_splits, all_out, all_more_results\n\u001b[1;32m   1015\u001b[0m     )\n\u001b[1;32m   1017\u001b[0m     \u001b[38;5;28;01mreturn\u001b[39;00m results\n\u001b[0;32m-> 1019\u001b[0m \u001b[38;5;28;43mself\u001b[39;49m\u001b[38;5;241;43m.\u001b[39;49m\u001b[43m_run_search\u001b[49m\u001b[43m(\u001b[49m\u001b[43mevaluate_candidates\u001b[49m\u001b[43m)\u001b[49m\n\u001b[1;32m   1021\u001b[0m \u001b[38;5;66;03m# multimetric is determined here because in the case of a callable\u001b[39;00m\n\u001b[1;32m   1022\u001b[0m \u001b[38;5;66;03m# self.scoring the return type is only known after calling\u001b[39;00m\n\u001b[1;32m   1023\u001b[0m first_test_score \u001b[38;5;241m=\u001b[39m all_out[\u001b[38;5;241m0\u001b[39m][\u001b[38;5;124m\"\u001b[39m\u001b[38;5;124mtest_scores\u001b[39m\u001b[38;5;124m\"\u001b[39m]\n",
      "File \u001b[0;32m~/miniconda3/envs/brain-mdd/lib/python3.12/site-packages/sklearn/model_selection/_search.py:1573\u001b[0m, in \u001b[0;36mGridSearchCV._run_search\u001b[0;34m(self, evaluate_candidates)\u001b[0m\n\u001b[1;32m   1571\u001b[0m \u001b[38;5;28;01mdef\u001b[39;00m \u001b[38;5;21m_run_search\u001b[39m(\u001b[38;5;28mself\u001b[39m, evaluate_candidates):\n\u001b[1;32m   1572\u001b[0m \u001b[38;5;250m    \u001b[39m\u001b[38;5;124;03m\"\"\"Search all candidates in param_grid\"\"\"\u001b[39;00m\n\u001b[0;32m-> 1573\u001b[0m     \u001b[43mevaluate_candidates\u001b[49m\u001b[43m(\u001b[49m\u001b[43mParameterGrid\u001b[49m\u001b[43m(\u001b[49m\u001b[38;5;28;43mself\u001b[39;49m\u001b[38;5;241;43m.\u001b[39;49m\u001b[43mparam_grid\u001b[49m\u001b[43m)\u001b[49m\u001b[43m)\u001b[49m\n",
      "File \u001b[0;32m~/miniconda3/envs/brain-mdd/lib/python3.12/site-packages/sklearn/model_selection/_search.py:965\u001b[0m, in \u001b[0;36mBaseSearchCV.fit.<locals>.evaluate_candidates\u001b[0;34m(candidate_params, cv, more_results)\u001b[0m\n\u001b[1;32m    957\u001b[0m \u001b[38;5;28;01mif\u001b[39;00m \u001b[38;5;28mself\u001b[39m\u001b[38;5;241m.\u001b[39mverbose \u001b[38;5;241m>\u001b[39m \u001b[38;5;241m0\u001b[39m:\n\u001b[1;32m    958\u001b[0m     \u001b[38;5;28mprint\u001b[39m(\n\u001b[1;32m    959\u001b[0m         \u001b[38;5;124m\"\u001b[39m\u001b[38;5;124mFitting \u001b[39m\u001b[38;5;132;01m{0}\u001b[39;00m\u001b[38;5;124m folds for each of \u001b[39m\u001b[38;5;132;01m{1}\u001b[39;00m\u001b[38;5;124m candidates,\u001b[39m\u001b[38;5;124m\"\u001b[39m\n\u001b[1;32m    960\u001b[0m         \u001b[38;5;124m\"\u001b[39m\u001b[38;5;124m totalling \u001b[39m\u001b[38;5;132;01m{2}\u001b[39;00m\u001b[38;5;124m fits\u001b[39m\u001b[38;5;124m\"\u001b[39m\u001b[38;5;241m.\u001b[39mformat(\n\u001b[1;32m    961\u001b[0m             n_splits, n_candidates, n_candidates \u001b[38;5;241m*\u001b[39m n_splits\n\u001b[1;32m    962\u001b[0m         )\n\u001b[1;32m    963\u001b[0m     )\n\u001b[0;32m--> 965\u001b[0m out \u001b[38;5;241m=\u001b[39m \u001b[43mparallel\u001b[49m\u001b[43m(\u001b[49m\n\u001b[1;32m    966\u001b[0m \u001b[43m    \u001b[49m\u001b[43mdelayed\u001b[49m\u001b[43m(\u001b[49m\u001b[43m_fit_and_score\u001b[49m\u001b[43m)\u001b[49m\u001b[43m(\u001b[49m\n\u001b[1;32m    967\u001b[0m \u001b[43m        \u001b[49m\u001b[43mclone\u001b[49m\u001b[43m(\u001b[49m\u001b[43mbase_estimator\u001b[49m\u001b[43m)\u001b[49m\u001b[43m,\u001b[49m\n\u001b[1;32m    968\u001b[0m \u001b[43m        \u001b[49m\u001b[43mX\u001b[49m\u001b[43m,\u001b[49m\n\u001b[1;32m    969\u001b[0m \u001b[43m        \u001b[49m\u001b[43my\u001b[49m\u001b[43m,\u001b[49m\n\u001b[1;32m    970\u001b[0m \u001b[43m        \u001b[49m\u001b[43mtrain\u001b[49m\u001b[38;5;241;43m=\u001b[39;49m\u001b[43mtrain\u001b[49m\u001b[43m,\u001b[49m\n\u001b[1;32m    971\u001b[0m \u001b[43m        \u001b[49m\u001b[43mtest\u001b[49m\u001b[38;5;241;43m=\u001b[39;49m\u001b[43mtest\u001b[49m\u001b[43m,\u001b[49m\n\u001b[1;32m    972\u001b[0m \u001b[43m        \u001b[49m\u001b[43mparameters\u001b[49m\u001b[38;5;241;43m=\u001b[39;49m\u001b[43mparameters\u001b[49m\u001b[43m,\u001b[49m\n\u001b[1;32m    973\u001b[0m \u001b[43m        \u001b[49m\u001b[43msplit_progress\u001b[49m\u001b[38;5;241;43m=\u001b[39;49m\u001b[43m(\u001b[49m\u001b[43msplit_idx\u001b[49m\u001b[43m,\u001b[49m\u001b[43m \u001b[49m\u001b[43mn_splits\u001b[49m\u001b[43m)\u001b[49m\u001b[43m,\u001b[49m\n\u001b[1;32m    974\u001b[0m \u001b[43m        \u001b[49m\u001b[43mcandidate_progress\u001b[49m\u001b[38;5;241;43m=\u001b[39;49m\u001b[43m(\u001b[49m\u001b[43mcand_idx\u001b[49m\u001b[43m,\u001b[49m\u001b[43m \u001b[49m\u001b[43mn_candidates\u001b[49m\u001b[43m)\u001b[49m\u001b[43m,\u001b[49m\n\u001b[1;32m    975\u001b[0m \u001b[43m        \u001b[49m\u001b[38;5;241;43m*\u001b[39;49m\u001b[38;5;241;43m*\u001b[39;49m\u001b[43mfit_and_score_kwargs\u001b[49m\u001b[43m,\u001b[49m\n\u001b[1;32m    976\u001b[0m \u001b[43m    \u001b[49m\u001b[43m)\u001b[49m\n\u001b[1;32m    977\u001b[0m \u001b[43m    \u001b[49m\u001b[38;5;28;43;01mfor\u001b[39;49;00m\u001b[43m \u001b[49m\u001b[43m(\u001b[49m\u001b[43mcand_idx\u001b[49m\u001b[43m,\u001b[49m\u001b[43m \u001b[49m\u001b[43mparameters\u001b[49m\u001b[43m)\u001b[49m\u001b[43m,\u001b[49m\u001b[43m \u001b[49m\u001b[43m(\u001b[49m\u001b[43msplit_idx\u001b[49m\u001b[43m,\u001b[49m\u001b[43m \u001b[49m\u001b[43m(\u001b[49m\u001b[43mtrain\u001b[49m\u001b[43m,\u001b[49m\u001b[43m \u001b[49m\u001b[43mtest\u001b[49m\u001b[43m)\u001b[49m\u001b[43m)\u001b[49m\u001b[43m \u001b[49m\u001b[38;5;129;43;01min\u001b[39;49;00m\u001b[43m \u001b[49m\u001b[43mproduct\u001b[49m\u001b[43m(\u001b[49m\n\u001b[1;32m    978\u001b[0m \u001b[43m        \u001b[49m\u001b[38;5;28;43menumerate\u001b[39;49m\u001b[43m(\u001b[49m\u001b[43mcandidate_params\u001b[49m\u001b[43m)\u001b[49m\u001b[43m,\u001b[49m\n\u001b[1;32m    979\u001b[0m \u001b[43m        \u001b[49m\u001b[38;5;28;43menumerate\u001b[39;49m\u001b[43m(\u001b[49m\u001b[43mcv\u001b[49m\u001b[38;5;241;43m.\u001b[39;49m\u001b[43msplit\u001b[49m\u001b[43m(\u001b[49m\u001b[43mX\u001b[49m\u001b[43m,\u001b[49m\u001b[43m \u001b[49m\u001b[43my\u001b[49m\u001b[43m,\u001b[49m\u001b[43m \u001b[49m\u001b[38;5;241;43m*\u001b[39;49m\u001b[38;5;241;43m*\u001b[39;49m\u001b[43mrouted_params\u001b[49m\u001b[38;5;241;43m.\u001b[39;49m\u001b[43msplitter\u001b[49m\u001b[38;5;241;43m.\u001b[39;49m\u001b[43msplit\u001b[49m\u001b[43m)\u001b[49m\u001b[43m)\u001b[49m\u001b[43m,\u001b[49m\n\u001b[1;32m    980\u001b[0m \u001b[43m    \u001b[49m\u001b[43m)\u001b[49m\n\u001b[1;32m    981\u001b[0m \u001b[43m\u001b[49m\u001b[43m)\u001b[49m\n\u001b[1;32m    983\u001b[0m \u001b[38;5;28;01mif\u001b[39;00m \u001b[38;5;28mlen\u001b[39m(out) \u001b[38;5;241m<\u001b[39m \u001b[38;5;241m1\u001b[39m:\n\u001b[1;32m    984\u001b[0m     \u001b[38;5;28;01mraise\u001b[39;00m \u001b[38;5;167;01mValueError\u001b[39;00m(\n\u001b[1;32m    985\u001b[0m         \u001b[38;5;124m\"\u001b[39m\u001b[38;5;124mNo fits were performed. \u001b[39m\u001b[38;5;124m\"\u001b[39m\n\u001b[1;32m    986\u001b[0m         \u001b[38;5;124m\"\u001b[39m\u001b[38;5;124mWas the CV iterator empty? \u001b[39m\u001b[38;5;124m\"\u001b[39m\n\u001b[1;32m    987\u001b[0m         \u001b[38;5;124m\"\u001b[39m\u001b[38;5;124mWere there no candidates?\u001b[39m\u001b[38;5;124m\"\u001b[39m\n\u001b[1;32m    988\u001b[0m     )\n",
      "File \u001b[0;32m~/miniconda3/envs/brain-mdd/lib/python3.12/site-packages/sklearn/utils/parallel.py:74\u001b[0m, in \u001b[0;36mParallel.__call__\u001b[0;34m(self, iterable)\u001b[0m\n\u001b[1;32m     69\u001b[0m config \u001b[38;5;241m=\u001b[39m get_config()\n\u001b[1;32m     70\u001b[0m iterable_with_config \u001b[38;5;241m=\u001b[39m (\n\u001b[1;32m     71\u001b[0m     (_with_config(delayed_func, config), args, kwargs)\n\u001b[1;32m     72\u001b[0m     \u001b[38;5;28;01mfor\u001b[39;00m delayed_func, args, kwargs \u001b[38;5;129;01min\u001b[39;00m iterable\n\u001b[1;32m     73\u001b[0m )\n\u001b[0;32m---> 74\u001b[0m \u001b[38;5;28;01mreturn\u001b[39;00m \u001b[38;5;28;43msuper\u001b[39;49m\u001b[43m(\u001b[49m\u001b[43m)\u001b[49m\u001b[38;5;241;43m.\u001b[39;49m\u001b[38;5;21;43m__call__\u001b[39;49m\u001b[43m(\u001b[49m\u001b[43miterable_with_config\u001b[49m\u001b[43m)\u001b[49m\n",
      "File \u001b[0;32m~/miniconda3/envs/brain-mdd/lib/python3.12/site-packages/joblib/parallel.py:2007\u001b[0m, in \u001b[0;36mParallel.__call__\u001b[0;34m(self, iterable)\u001b[0m\n\u001b[1;32m   2001\u001b[0m \u001b[38;5;66;03m# The first item from the output is blank, but it makes the interpreter\u001b[39;00m\n\u001b[1;32m   2002\u001b[0m \u001b[38;5;66;03m# progress until it enters the Try/Except block of the generator and\u001b[39;00m\n\u001b[1;32m   2003\u001b[0m \u001b[38;5;66;03m# reaches the first `yield` statement. This starts the asynchronous\u001b[39;00m\n\u001b[1;32m   2004\u001b[0m \u001b[38;5;66;03m# dispatch of the tasks to the workers.\u001b[39;00m\n\u001b[1;32m   2005\u001b[0m \u001b[38;5;28mnext\u001b[39m(output)\n\u001b[0;32m-> 2007\u001b[0m \u001b[38;5;28;01mreturn\u001b[39;00m output \u001b[38;5;28;01mif\u001b[39;00m \u001b[38;5;28mself\u001b[39m\u001b[38;5;241m.\u001b[39mreturn_generator \u001b[38;5;28;01melse\u001b[39;00m \u001b[38;5;28;43mlist\u001b[39;49m\u001b[43m(\u001b[49m\u001b[43moutput\u001b[49m\u001b[43m)\u001b[49m\n",
      "File \u001b[0;32m~/miniconda3/envs/brain-mdd/lib/python3.12/site-packages/joblib/parallel.py:1650\u001b[0m, in \u001b[0;36mParallel._get_outputs\u001b[0;34m(self, iterator, pre_dispatch)\u001b[0m\n\u001b[1;32m   1647\u001b[0m     \u001b[38;5;28;01myield\u001b[39;00m\n\u001b[1;32m   1649\u001b[0m     \u001b[38;5;28;01mwith\u001b[39;00m \u001b[38;5;28mself\u001b[39m\u001b[38;5;241m.\u001b[39m_backend\u001b[38;5;241m.\u001b[39mretrieval_context():\n\u001b[0;32m-> 1650\u001b[0m         \u001b[38;5;28;01myield from\u001b[39;00m \u001b[38;5;28mself\u001b[39m\u001b[38;5;241m.\u001b[39m_retrieve()\n\u001b[1;32m   1652\u001b[0m \u001b[38;5;28;01mexcept\u001b[39;00m \u001b[38;5;167;01mGeneratorExit\u001b[39;00m:\n\u001b[1;32m   1653\u001b[0m     \u001b[38;5;66;03m# The generator has been garbage collected before being fully\u001b[39;00m\n\u001b[1;32m   1654\u001b[0m     \u001b[38;5;66;03m# consumed. This aborts the remaining tasks if possible and warn\u001b[39;00m\n\u001b[1;32m   1655\u001b[0m     \u001b[38;5;66;03m# the user if necessary.\u001b[39;00m\n\u001b[1;32m   1656\u001b[0m     \u001b[38;5;28mself\u001b[39m\u001b[38;5;241m.\u001b[39m_exception \u001b[38;5;241m=\u001b[39m \u001b[38;5;28;01mTrue\u001b[39;00m\n",
      "File \u001b[0;32m~/miniconda3/envs/brain-mdd/lib/python3.12/site-packages/joblib/parallel.py:1762\u001b[0m, in \u001b[0;36mParallel._retrieve\u001b[0;34m(self)\u001b[0m\n\u001b[1;32m   1757\u001b[0m \u001b[38;5;66;03m# If the next job is not ready for retrieval yet, we just wait for\u001b[39;00m\n\u001b[1;32m   1758\u001b[0m \u001b[38;5;66;03m# async callbacks to progress.\u001b[39;00m\n\u001b[1;32m   1759\u001b[0m \u001b[38;5;28;01mif\u001b[39;00m ((\u001b[38;5;28mlen\u001b[39m(\u001b[38;5;28mself\u001b[39m\u001b[38;5;241m.\u001b[39m_jobs) \u001b[38;5;241m==\u001b[39m \u001b[38;5;241m0\u001b[39m) \u001b[38;5;129;01mor\u001b[39;00m\n\u001b[1;32m   1760\u001b[0m     (\u001b[38;5;28mself\u001b[39m\u001b[38;5;241m.\u001b[39m_jobs[\u001b[38;5;241m0\u001b[39m]\u001b[38;5;241m.\u001b[39mget_status(\n\u001b[1;32m   1761\u001b[0m         timeout\u001b[38;5;241m=\u001b[39m\u001b[38;5;28mself\u001b[39m\u001b[38;5;241m.\u001b[39mtimeout) \u001b[38;5;241m==\u001b[39m TASK_PENDING)):\n\u001b[0;32m-> 1762\u001b[0m     \u001b[43mtime\u001b[49m\u001b[38;5;241;43m.\u001b[39;49m\u001b[43msleep\u001b[49m\u001b[43m(\u001b[49m\u001b[38;5;241;43m0.01\u001b[39;49m\u001b[43m)\u001b[49m\n\u001b[1;32m   1763\u001b[0m     \u001b[38;5;28;01mcontinue\u001b[39;00m\n\u001b[1;32m   1765\u001b[0m \u001b[38;5;66;03m# We need to be careful: the job list can be filling up as\u001b[39;00m\n\u001b[1;32m   1766\u001b[0m \u001b[38;5;66;03m# we empty it and Python list are not thread-safe by\u001b[39;00m\n\u001b[1;32m   1767\u001b[0m \u001b[38;5;66;03m# default hence the use of the lock\u001b[39;00m\n",
      "\u001b[0;31mKeyboardInterrupt\u001b[0m: "
     ]
    }
   ],
   "source": [
    "models = {\n",
    "    \"KNN\": (KNeighborsClassifier(), {\"n_neighbors\": [3, 5, 7, 9], \"weights\": [\"uniform\", \"distance\"]}),\n",
    "    \"SVM\": (SVC(), {\"C\": [0.1, 1, 10], \"kernel\": [\"linear\", \"rbf\"]}),\n",
    "    \"LDA\": (LinearDiscriminantAnalysis(), {\"solver\": [\"svd\", \"lsqr\", \"eigen\"]}),\n",
    "    \"Decision Tree\": (DecisionTreeClassifier(), {\"max_depth\": [3, 5, 10], \"criterion\": [\"gini\", \"entropy\"]}),\n",
    "    \"Random Forest\": (RandomForestClassifier(), {\"n_estimators\": [50, 100, 200], \"max_depth\": [5, 10]}),\n",
    "    \"Logistic Regression\": (LogisticRegression(), {\"C\": [0.1, 1, 10], \"solver\": [\"lbfgs\", \"liblinear\"]}),\n",
    "}\n",
    "\n",
    "batch_sizes = [16, 32, 64, 128]\n",
    "\n",
    "feature_selectors = {\n",
    "    \"NoFeatureSelection\": None,\n",
    "    \"PCA\": PCA(n_components=0.95),  # Keeps 95% of variance\n",
    "    \"SelectKBest\": SelectKBest(score_func=f_classif, k=50),  # Selects top 50 features\n",
    "    \"VarianceThreshold\": VarianceThreshold(threshold=0.01)  # Removes low variance features\n",
    "}\n",
    "performance_records = []\n",
    "\n",
    "\n",
    "for batch_size in batch_sizes:\n",
    "    print(f\"\\n=== Processing Batch Size: {batch_size} ===\\n\")\n",
    "    X_train, X_test, y_train, y_test = train_test_split(\n",
    "        X, y, test_size=0.2, random_state=42, stratify=y\n",
    "    )\n",
    "    \n",
    "    for feature_selection_method, selector in feature_selectors.items():\n",
    "        print(f\"\\nApplying Feature Selection: {feature_selection_method}\")\n",
    "        if selector is None:\n",
    "            X_train_transformed, X_test_transformed = X_train, X_test\n",
    "        else:\n",
    "            selector.fit(X_train, y_train)\n",
    "            X_train_transformed = selector.transform(X_train)\n",
    "            X_test_transformed = selector.transform(X_test)\n",
    "\n",
    "        for name, (model, param_grid) in tqdm(models.items(), desc=f\"Training Models ({feature_selection_method}, Batch {batch_size})\"):\n",
    "            print(f\"🔍 Tuning {name}...\")\n",
    "            grid_search = GridSearchCV(model, param_grid, cv=10, scoring=\"accuracy\", n_jobs=-1)\n",
    "            grid_search.fit(X_train_transformed, y_train)\n",
    "            best_model = grid_search.best_estimator_\n",
    "            best_params = grid_search.best_params_\n",
    "            cv_scores = cross_val_score(best_model, X_train_transformed, y_train, cv=10, scoring=\"accuracy\")\n",
    "            mean_cv_score = np.mean(cv_scores)\n",
    "            y_pred = best_model.predict(X_test_transformed)\n",
    "            test_accuracy = accuracy_score(y_test, y_pred)\n",
    "            performance_records.append({\n",
    "                \"Model\": name,\n",
    "                \"Batch Size\": batch_size,\n",
    "                \"Feature Selection\": feature_selection_method,\n",
    "                \"CV Accuracy\": mean_cv_score,\n",
    "                \"Test Accuracy\": test_accuracy,\n",
    "                \"Best Parameters\": best_params\n",
    "            })\n",
    "            save_model(best_model, \"Models\", name, batch_size, feature_selection_method)\n",
    "\n",
    "df_performance = pd.DataFrame(performance_records)\n",
    "os.makedirs(\"models\", exist_ok=True)\n",
    "df_performance.to_csv(\"models/model_performance.csv\", index=False)\n",
    "\n",
    "print(\"\\nModel training and evaluation completed. Results saved in 'models/model_performance.csv'.\")\n"
   ]
  },
  {
   "cell_type": "code",
   "execution_count": null,
   "metadata": {},
   "outputs": [
    {
     "name": "stderr",
     "output_type": "stream",
     "text": [
      "Training Models (WithoutFeatureSelection):   0%|          | 0/6 [00:00<?, ?it/s]"
     ]
    },
    {
     "name": "stdout",
     "output_type": "stream",
     "text": [
      "🔍 Tuning KNN...\n",
      "Best KNN Parameters: {'n_neighbors': 5, 'weights': 'distance'}\n",
      "KNN CV Accuracy: 0.6035\n",
      "KNN Test Accuracy: 0.5867\n",
      "\n"
     ]
    },
    {
     "name": "stderr",
     "output_type": "stream",
     "text": [
      "Training Models (WithoutFeatureSelection):  17%|█▋        | 1/6 [00:30<02:34, 30.89s/it]"
     ]
    },
    {
     "name": "stdout",
     "output_type": "stream",
     "text": [
      "Model saved: models/WithoutFeatureSelection/KNN.pkl\n",
      "🔍 Tuning SVM...\n",
      "Best SVM Parameters: {'C': 1, 'kernel': 'rbf'}\n",
      "SVM CV Accuracy: 0.5816\n",
      "SVM Test Accuracy: 0.6288\n",
      "\n"
     ]
    },
    {
     "name": "stderr",
     "output_type": "stream",
     "text": [
      "Training Models (WithoutFeatureSelection):  33%|███▎      | 2/6 [3:11:57<7:31:18, 6769.58s/it]"
     ]
    },
    {
     "name": "stdout",
     "output_type": "stream",
     "text": [
      "Model saved: models/WithoutFeatureSelection/SVM.pkl\n",
      "🔍 Tuning LDA...\n"
     ]
    }
   ],
   "source": [
    "# def flatten_and_concat(features_list):\n",
    "#     flattened = [feat.reshape(feat.shape[0], -1) for feat in features_list]\n",
    "#     return np.concatenate(flattened, axis=1)\n",
    "\n",
    "\n",
    "# def save_model(model, folder_name, model_name):\n",
    "#     folder_path = os.path.join(\"models\", folder_name)\n",
    "#     os.makedirs(folder_path, exist_ok=True)\n",
    "#     model_path = os.path.join(folder_path, f\"{model_name}.pkl\")\n",
    "#     with open(model_path, \"wb\") as file:\n",
    "#         pickle.dump(model, file)\n",
    "#     print(f\"Model saved: {model_path}\")\n",
    "\n",
    "# controlFeatures = flatten_and_concat([\n",
    "#     controlCdFeatures, controlHfdFeatures, controlCohFeatures, controlPhaseFeatures, controlPsdFeatures\n",
    "# ])\n",
    "\n",
    "# mddFeatures = flatten_and_concat([\n",
    "#     mddCdFeatures, mddHfdFeatures, mddCohFeatures, mddPhaseFeatures, mddPsdFeatures\n",
    "# ])\n",
    "\n",
    "# X = np.concatenate((controlFeatures, mddFeatures), axis=0)\n",
    "# y = np.concatenate((np.zeros(len(controlFeatures)), np.ones(len(mddFeatures))), axis=0)\n",
    "# X_train, X_test, y_train, y_test = train_test_split(X, y, test_size=0.2, random_state=42)\n",
    "\n",
    "# models = {\n",
    "#     \"KNN\": (KNeighborsClassifier(), {\"n_neighbors\": [3, 5, 7, 9], \"weights\": [\"uniform\", \"distance\"]}),\n",
    "#     \"SVM\": (SVC(), {\"C\": [0.1, 1, 10], \"kernel\": [\"linear\", \"rbf\"]}),\n",
    "#     \"LDA\": (LinearDiscriminantAnalysis(), {\"solver\": [\"svd\", \"lsqr\", \"eigen\"]}),\n",
    "#     \"Decision Tree\": (DecisionTreeClassifier(), {\"max_depth\": [3, 5, 10], \"criterion\": [\"gini\", \"entropy\"]}),\n",
    "#     \"Random Forest\": (RandomForestClassifier(), {\"n_estimators\": [50, 100, 200], \"max_depth\": [5, 10]}),\n",
    "#     \"Logistic Regression\": (LogisticRegression(), {\"C\": [0.1, 1, 10], \"solver\": [\"lbfgs\", \"liblinear\"]}),\n",
    "# }\n",
    "\n",
    "# for use_feature_selection in [False, True]:\n",
    "#     folder_name = \"WithFeatureSelection\" if use_feature_selection else \"WithoutFeatureSelection\"\n",
    "\n",
    "#     if use_feature_selection:\n",
    "#         print(\"🔍 Applying Feature Selection...\")\n",
    "#         selector = PCA(n_components=0.95)  # Keeps 95% of variance\n",
    "#         X_train_transformed = selector.fit_transform(X_train, y_train)\n",
    "#         X_test_transformed = selector.transform(X_test)\n",
    "#     else:\n",
    "#         X_train_transformed = X_train\n",
    "#         X_test_transformed = X_test\n",
    "\n",
    "#     best_models = {}\n",
    "\n",
    "#     for name, (model, param_grid) in tqdm(models.items(), desc=f\"Training Models ({folder_name})\"):\n",
    "#         print(f\"🔍 Tuning {name}...\")\n",
    "\n",
    "#         grid_search = GridSearchCV(model, param_grid, cv=10, scoring=\"accuracy\", n_jobs=-1)\n",
    "#         grid_search.fit(X_train_transformed, y_train)\n",
    "\n",
    "#         best_model = grid_search.best_estimator_\n",
    "#         best_params = grid_search.best_params_\n",
    "\n",
    "#         cv_scores = cross_val_score(best_model, X_train_transformed, y_train, cv=10, scoring=\"accuracy\")\n",
    "#         mean_cv_score = np.mean(cv_scores)\n",
    "\n",
    "#         y_pred = best_model.predict(X_test_transformed)\n",
    "#         test_accuracy = accuracy_score(y_test, y_pred)\n",
    "\n",
    "#         best_models[name] = (best_model, test_accuracy, mean_cv_score, best_params)\n",
    "\n",
    "#         print(f\"Best {name} Parameters: {best_params}\")\n",
    "#         print(f\"{name} CV Accuracy: {mean_cv_score:.4f}\")\n",
    "#         print(f\"{name} Test Accuracy: {test_accuracy:.4f}\\n\")\n",
    "\n",
    "#         save_model(best_model, folder_name, name)\n",
    "\n",
    "#     print(f\"\\n=== Best Models Summary ({folder_name}) ===\")\n",
    "#     for name, (model, test_accuracy, cv_score, params) in best_models.items():\n",
    "#         print(f\"{name}: CV Accuracy={cv_score:.4f}, Test Accuracy={test_accuracy:.4f}, Best Params={params}\")\n"
   ]
  },
  {
   "cell_type": "code",
   "execution_count": null,
   "metadata": {},
   "outputs": [],
   "source": []
  }
 ],
 "metadata": {
  "kernelspec": {
   "display_name": "brain-mdd",
   "language": "python",
   "name": "python3"
  },
  "language_info": {
   "codemirror_mode": {
    "name": "ipython",
    "version": 3
   },
   "file_extension": ".py",
   "mimetype": "text/x-python",
   "name": "python",
   "nbconvert_exporter": "python",
   "pygments_lexer": "ipython3",
   "version": "3.12.7"
  }
 },
 "nbformat": 4,
 "nbformat_minor": 2
}
