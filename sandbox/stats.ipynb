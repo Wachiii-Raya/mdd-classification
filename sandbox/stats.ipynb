{
 "cells": [
  {
   "cell_type": "code",
   "execution_count": 1,
   "metadata": {},
   "outputs": [],
   "source": [
    "import dotenv\n",
    "import numpy as np\n",
    "import os\n",
    "import matplotlib.pyplot as plt\n",
    "import pandas as pd\n",
    "from brainmdd.features.psd import EEGPowerSpectrum\n",
    "import mne\n",
    "import enum\n",
    "\n",
    "dotenv.load_dotenv()\n",
    "\n",
    "\n",
    "\n",
    "class ChannelMapping(enum.Enum):\n",
    "    Fp1 = 22\n",
    "    Fp2 = 9\n",
    "    F3 = 24\n",
    "    F4 = 124\n",
    "    C3 = 36\n",
    "    C4 = 104\n",
    "    P3 = 52\n",
    "    P4 = 92\n",
    "    O1 = 70\n",
    "    O2 = 83\n",
    "    F7 = 33\n",
    "    F8 = 122\n",
    "    T3 = 45\n",
    "    T4 = 108\n",
    "    T5 = 58\n",
    "    T6 = 96\n",
    "\n",
    "# Declare Global Variables\n",
    "NUM_CHANNELS = 16\n",
    "MODMA_SFREQ = 250\n",
    "EEG_DIR_PATH = os.getenv(\"EEG_DIR_PATH\")\n",
    "RAW_DIR_PATH = os.getenv(\"EEG_DIR_PATH\") + \"/raw\"\n",
    "SELECT_16_DIR_PATH = os.getenv(\"EEG_DIR_PATH\") + \"/16channels\"\n",
    "FILTERED_DIR_PATH = os.getenv(\"EEG_DIR_PATH\") + \"/filtered\"\n",
    "EPOCHS_DIR_PATH = os.getenv(\"EEG_DIR_PATH\") + \"/epochs\"\n",
    "\n",
    "# Declare Feature Dictionary\n",
    "featureDict = {\n",
    "    \"norm_power\": {\n",
    "        \"mdd\": {\n",
    "            \"delta\": [],\n",
    "            \"theta\": [],\n",
    "            \"alpha\": [],\n",
    "            \"beta\": [],\n",
    "            \"gamma\": []\n",
    "            },\n",
    "        \"control\": {\n",
    "            \"delta\": [],\n",
    "            \"theta\": [],\n",
    "            \"alpha\": [],\n",
    "            \"beta\": [],\n",
    "            \"gamma\": []\n",
    "            }\n",
    "        }\n",
    "    }    \n"
   ]
  },
  {
   "cell_type": "code",
   "execution_count": 2,
   "metadata": {},
   "outputs": [
    {
     "name": "stdout",
     "output_type": "stream",
     "text": [
      "Reading /Users/wachiii/Workschii/brain-mdd/data/epochs/mdd-epo.fif ...\n",
      "    Found the data of interest:\n",
      "        t =       0.00 ...    4996.00 ms\n",
      "        0 CTF compensation matrices available\n",
      "Not setting metadata\n",
      "1328 matching events found\n",
      "No baseline correction applied\n",
      "0 projection items activated\n",
      "Reading /Users/wachiii/Workschii/brain-mdd/data/epochs/control-epo.fif ...\n",
      "    Found the data of interest:\n",
      "        t =       0.00 ...    4996.00 ms\n",
      "        0 CTF compensation matrices available\n",
      "Not setting metadata\n",
      "1753 matching events found\n",
      "No baseline correction applied\n",
      "0 projection items activated\n"
     ]
    }
   ],
   "source": [
    "# Load the epochs\n",
    "mddEpochs = mne.read_epochs(EPOCHS_DIR_PATH + \"/mdd-epo.fif\")\n",
    "controlEpochs = mne.read_epochs(EPOCHS_DIR_PATH + \"/control-epo.fif\")\n",
    "mddEpochs = mddEpochs.get_data()\n",
    "controlEpochs = controlEpochs.get_data()"
   ]
  },
  {
   "cell_type": "code",
   "execution_count": 3,
   "metadata": {},
   "outputs": [
    {
     "name": "stdout",
     "output_type": "stream",
     "text": [
      "(1328, 5, 16)\n",
      "(1753, 5, 16)\n"
     ]
    }
   ],
   "source": [
    "psdObjMdd = EEGPowerSpectrum(mddEpochs, 250, ifNormalize=True)\n",
    "mddPsdFeatures = psdObjMdd.run()\n",
    "psdObjCtrl = EEGPowerSpectrum(controlEpochs, 250, ifNormalize=True)\n",
    "controlPsdFeatures = psdObjCtrl.run()\n",
    "print(mddPsdFeatures.shape)\n",
    "print(controlPsdFeatures.shape)"
   ]
  },
  {
   "cell_type": "code",
   "execution_count": 4,
   "metadata": {},
   "outputs": [],
   "source": [
    "for epoch in mddPsdFeatures:\n",
    "    bandCounter = 0\n",
    "    for band in epoch:\n",
    "        if bandCounter == 0:\n",
    "            featureDict[\"norm_power\"][\"mdd\"][\"delta\"].append(band)\n",
    "        elif bandCounter == 1:\n",
    "            featureDict[\"norm_power\"][\"mdd\"][\"theta\"].append(band)\n",
    "        elif bandCounter == 2:\n",
    "            featureDict[\"norm_power\"][\"mdd\"][\"alpha\"].append(band)\n",
    "        elif bandCounter == 3:\n",
    "            featureDict[\"norm_power\"][\"mdd\"][\"beta\"].append(band)\n",
    "        elif bandCounter == 4:\n",
    "            featureDict[\"norm_power\"][\"mdd\"][\"gamma\"].append(band)\n",
    "        bandCounter += 1\n",
    "\n",
    "for epoch in controlPsdFeatures:\n",
    "    bandCounter = 0\n",
    "    for band in epoch:\n",
    "        if bandCounter == 0:\n",
    "            featureDict[\"norm_power\"][\"control\"][\"delta\"].append(band)\n",
    "        elif bandCounter == 1:\n",
    "            featureDict[\"norm_power\"][\"control\"][\"theta\"].append(band)\n",
    "        elif bandCounter == 2:\n",
    "            featureDict[\"norm_power\"][\"control\"][\"alpha\"].append(band)\n",
    "        elif bandCounter == 3:\n",
    "            featureDict[\"norm_power\"][\"control\"][\"beta\"].append(band)\n",
    "        elif bandCounter == 4:\n",
    "            featureDict[\"norm_power\"][\"control\"][\"gamma\"].append(band)\n",
    "        bandCounter += 1                                                           "
   ]
  },
  {
   "cell_type": "code",
   "execution_count": 13,
   "metadata": {},
   "outputs": [
    {
     "name": "stdout",
     "output_type": "stream",
     "text": [
      "(1328, 16)\n",
      "(1753, 16)\n"
     ]
    },
    {
     "data": {
      "image/png": "[encoded data removed]",
      "text/plain": [
       "<Figure size 640x480 with 1 Axes>"
      ]
     },
     "metadata": {},
     "output_type": "display_data"
    }
   ],
   "source": [
    "# check distribution of features, p-values, etc.\n",
    "\n",
    "# histogram of delta power\n",
    "deltaMdd = featureDict[\"norm_power\"][\"mdd\"][\"delta\"]\n",
    "deltaCtrl = featureDict[\"norm_power\"][\"control\"][\"delta\"]\n",
    "deltaMdd = np.array(deltaMdd)\n",
    "deltaCtrl = np.array(deltaCtrl)\n",
    "print(deltaMdd.shape)\n",
    "print(deltaCtrl.shape)\n",
    "# for loop check normal distribution for each channel\n",
    "deltaMddCh1 = deltaMdd[:, 0]\n",
    "deltaCtrlCh1 = deltaCtrl[:, 0]\n",
    "\n",
    "plt.hist(deltaMddCh1, bins=20, alpha=0.5, label='MDD')\n",
    "plt.hist(deltaCtrlCh1, bins=20, alpha=0.5, label='Control')\n",
    "plt.legend(loc='upper right')\n",
    "plt.title(\"Delta Power Distribution for Channel 1\")\n",
    "plt.show()\n",
    "\n"
   ]
  },
  {
   "cell_type": "code",
   "execution_count": 18,
   "metadata": {},
   "outputs": [
    {
     "name": "stdout",
     "output_type": "stream",
     "text": [
      "Channel 1: Significant (Corrected p-value = 0.0000)\n",
      "Channel 2: Significant (Corrected p-value = 0.0000)\n",
      "Channel 3: Significant (Corrected p-value = 0.0000)\n",
      "Channel 4: Significant (Corrected p-value = 0.0000)\n",
      "Channel 5: Significant (Corrected p-value = 0.0000)\n",
      "Channel 6: Significant (Corrected p-value = 0.0000)\n",
      "Channel 7: Significant (Corrected p-value = 0.0000)\n",
      "Channel 8: Significant (Corrected p-value = 0.0000)\n",
      "Channel 9: Significant (Corrected p-value = 0.0000)\n",
      "Channel 10: Significant (Corrected p-value = 0.0000)\n",
      "Channel 11: Significant (Corrected p-value = 0.0000)\n",
      "Channel 12: Significant (Corrected p-value = 0.0000)\n",
      "Channel 13: Significant (Corrected p-value = 0.0000)\n",
      "Channel 14: Significant (Corrected p-value = 0.0000)\n",
      "Channel 15: Significant (Corrected p-value = 0.0000)\n",
      "Channel 16: Significant (Corrected p-value = 0.0000)\n"
     ]
    }
   ],
   "source": [
    "import numpy as np\n",
    "from statsmodels.stats.multitest import fdrcorrection\n",
    "\n",
    "# Example data: features from 16 EEG channels (e.g., power spectral density)\n",
    "np.random.seed(42)  # For reproducibility\n",
    "group1 = np.random.rand(10, 16)  # Healthy group: 10 epochs, 16 channels\n",
    "group2 = np.random.rand(12, 16)  # MDD group: 12 epochs, 16 channels\n",
    "\n",
    "# Number of permutations\n",
    "num_permutations = 10000\n",
    "num_channels = group1.shape[1]\n",
    "p_values = []\n",
    "\n",
    "# Perform permutation tests for each channel\n",
    "for ch in range(num_channels):\n",
    "    observed_stat = np.mean(group1[:, ch]) - np.mean(group2[:, ch])\n",
    "    \n",
    "    # Pool the data\n",
    "    pooled_data = np.hstack((group1[:, ch], group2[:, ch]))\n",
    "    perm_stats = []\n",
    "    \n",
    "    for _ in range(num_permutations):\n",
    "        np.random.shuffle(pooled_data)\n",
    "        perm_group1 = pooled_data[:len(group1)]\n",
    "        perm_group2 = pooled_data[len(group1):]\n",
    "        perm_stat = np.mean(perm_group1) - np.mean(perm_group2)\n",
    "        perm_stats.append(perm_stat)\n",
    "    \n",
    "    # Calculate p-value\n",
    "    perm_stats = np.array(perm_stats)\n",
    "    p_value = np.mean(np.abs(perm_stats) >= np.abs(observed_stat))\n",
    "    p_values.append(p_value)\n",
    "\n",
    "# Convert list of p-values to an array\n",
    "p_values = np.array(p_values)\n",
    "\n",
    "# Apply FDR correction\n",
    "fdr_corrected, fdr_significant = fdrcorrection(p_values, alpha=0.05)\n",
    "\n",
    "for ch in range(num_channels):\n",
    "    if fdr_significant[ch]:\n",
    "        print(f\"Channel {ch + 1}: Significant (Corrected p-value = {fdr_corrected[ch]:.4f})\")\n",
    "    else:\n",
    "        print(f\"Channel {ch + 1}: Not Significant (Corrected p-value = {fdr_corrected[ch]:.4f})\")\n"
   ]
  },
  {
   "cell_type": "code",
   "execution_count": null,
   "metadata": {},
   "outputs": [],
   "source": []
  }
 ],
 "metadata": {
  "kernelspec": {
   "display_name": "brain-mdd",
   "language": "python",
   "name": "python3"
  },
  "language_info": {
   "codemirror_mode": {
    "name": "ipython",
    "version": 3
   },
   "file_extension": ".py",
   "mimetype": "text/x-python",
   "name": "python",
   "nbconvert_exporter": "python",
   "pygments_lexer": "ipython3",
   "version": "3.12.7"
  }
 },
 "nbformat": 4,
 "nbformat_minor": 2
}
